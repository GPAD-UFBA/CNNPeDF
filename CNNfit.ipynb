{
 "cells": [
  {
   "cell_type": "code",
   "execution_count": 2,
   "metadata": {},
   "outputs": [
    {
     "name": "stderr",
     "output_type": "stream",
     "text": [
      "Using TensorFlow backend.\n"
     ]
    }
   ],
   "source": [
    "from data_loader import *\n",
    "import numpy as np\n",
    "from sklearn.preprocessing import OneHotEncoder\n",
    "import matplotlib.pyplot as plt\n",
    "import matplotlib.image as mpimg\n",
    "\n",
    "from keras.preprocessing.image import load_img\n",
    "from keras.preprocessing.image import img_to_array\n",
    "from keras.applications.vgg16 import preprocess_input\n",
    "from keras.applications.vgg16 import decode_predictions\n",
    "from keras.applications.vgg16 import VGG16"
   ]
  },
  {
   "cell_type": "code",
   "execution_count": 3,
   "metadata": {},
   "outputs": [
    {
     "name": "stdout",
     "output_type": "stream",
     "text": [
      "We've already made 0 importation.\n",
      "We've already made 1000 importation.\n",
      "We've already made 2000 importation.\n",
      "We've already made 3000 importation.\n",
      "We've already made 4000 importation.\n",
      "4180\n"
     ]
    }
   ],
   "source": [
    "whole_data = []\n",
    "\n",
    "# loop from 0 to the number of .hdf5 files you want to load\n",
    "nb_files = 4180\n",
    "\n",
    "for i in range(0,nb_files):\n",
    "    # Selects the file\n",
    "    file_to_load = 'h5/n2data_extended_ballroom_' + str(i) + '.hdf5'\n",
    "    \n",
    "    # Gets data\n",
    "    data = data_loader(file_to_load)\n",
    "    whole_data.append(data)\n",
    "    if i%1000 == 0:\n",
    "            print(f\"We've already made {i} importation.\")\n",
    "\n",
    "    \n",
    "print(len(whole_data))"
   ]
  },
  {
   "cell_type": "code",
   "execution_count": 4,
   "metadata": {},
   "outputs": [
    {
     "name": "stdout",
     "output_type": "stream",
     "text": [
      "<class 'numpy.ndarray'>\n",
      "O database possui 4180 exemplos de treinamento.\n",
      "O nível Wavelet A2 tem 149 amostras.\n",
      "O nível Wavelet D2 tem 149 amostras.\n",
      "O nível Wavelet D1 tem 298 amostras.\n",
      "87\n"
     ]
    }
   ],
   "source": [
    "# LIST -> Dictionary(Data) -> Features(numpy.ndarray)\n",
    "# m -> the m-th example\n",
    "# feature -> ODF_SET, PeDF_FULL_SET, PeDF_PARTIAL_SET, coeffs\n",
    "# wavelet_level -> wavelet level\n",
    "# whole_data[m][feature][wavelet_level]\n",
    "\n",
    "print(type(whole_data[0]['ODF_SET'][0]))\n",
    "\n",
    "print(f\"O database possui {len(whole_data)} exemplos de treinamento.\")\n",
    "print(f\"O nível Wavelet A2 tem {len(whole_data[0]['PeDF_PARTIAL_SET'][0])} amostras.\")\n",
    "print(f\"O nível Wavelet D2 tem {len(whole_data[0]['PeDF_PARTIAL_SET'][1])} amostras.\")\n",
    "print(f\"O nível Wavelet D1 tem {len(whole_data[0]['PeDF_PARTIAL_SET'][2])} amostras.\")\n",
    "\n",
    "print(whole_data[0]['bpm'])"
   ]
  },
  {
   "cell_type": "code",
   "execution_count": 5,
   "metadata": {},
   "outputs": [
    {
     "name": "stdout",
     "output_type": "stream",
     "text": [
      "O valor máximo de andamento é 216.\n",
      "O valor mínimo de andamento é 65.\n",
      "<class 'numpy.ndarray'>\n"
     ]
    }
   ],
   "source": [
    "# CRIANDO VETOR PRÓPRIO Y\n",
    "y = []\n",
    "for j in range(0,len(whole_data)): \n",
    "    y.append(whole_data[j]['bpm'])\n",
    "    \n",
    "print(f\"O valor máximo de andamento é {np.max(y)}.\")\n",
    "print(f\"O valor mínimo de andamento é {np.min(y)}.\")\n",
    "#print(y)\n",
    "y = np.array(y).reshape(len(whole_data),1)\n",
    "print(type(y))\n",
    "#print(y)\n",
    "#Começará em 64 e irá de 8 em 8 até 216, (19 \"variáveis booleanas\") "
   ]
  },
  {
   "cell_type": "code",
   "execution_count": 6,
   "metadata": {},
   "outputs": [
    {
     "name": "stdout",
     "output_type": "stream",
     "text": [
      "[23]\n",
      "[0. 0. 0. 0. 0. 0. 0. 0. 0. 0. 0. 0. 0. 0. 0. 0. 0. 0. 0. 0. 0. 0. 1. 0.\n",
      " 0. 0. 0. 0. 0. 0. 0. 0. 0. 0. 0. 0. 0. 0.]\n"
     ]
    }
   ],
   "source": [
    "##BLOCO LABEL ENCONDER\n",
    "Classe = []\n",
    "for i in range(1,39): \n",
    "    a = 60+(4*i)\n",
    "    Classe.append(a)\n",
    "# [64 72 80 88 96 104 112 120 128 136]\n",
    "#Classes = np.array(Classe).reshape(19,1)\n",
    "Classes = np.array(Classe).reshape(38,1)\n",
    "\n",
    "n_C = Classes.shape[0]\n",
    "\n",
    "Y = np.zeros(y.shape)\n",
    "Y = (y>=Classes[0])*1\n",
    "for i in range(1,n_C):    \n",
    "    Y += (y>=Classes[i])*1\n",
    "\n",
    "print(Y[4168])\n",
    "##BLOCO ONE HOT ENCONDER \n",
    "np.array(Y).reshape(len(whole_data),1)\n",
    "onehotencoder = OneHotEncoder(categorical_features = [0])\n",
    "Y = onehotencoder.fit_transform(Y).toarray()\n",
    "print(Y[4168])\n"
   ]
  },
  {
   "cell_type": "code",
   "execution_count": 7,
   "metadata": {},
   "outputs": [
    {
     "name": "stdout",
     "output_type": "stream",
     "text": [
      "1.0\n",
      "(3, 17, 18)\n"
     ]
    },
    {
     "data": {
      "image/png": "[encoded data removed]",
      "text/plain": [
       "<Figure size 432x288 with 1 Axes>"
      ]
     },
     "metadata": {
      "needs_background": "light"
     },
     "output_type": "display_data"
    }
   ],
   "source": [
    "print(whole_data[0]['PeDF_PARTIAL_SET'][2][0])\n",
    "lista = []\n",
    "\n",
    "for j in range(0,len(whole_data)):  #varrer m-exemplos\n",
    "\n",
    "    listaux0 = []    #D1\n",
    "    listaux1 = []    #D2\n",
    "    listaux2 = []    #A2\n",
    "    listaux0.append(1)\n",
    "    listaux1.append(1)    \n",
    "    listaux2.append(1)  \n",
    "    for i in range(1,len(whole_data[0]['PeDF_PARTIAL_SET'][2])):\n",
    "        if (i<len(whole_data[j]['PeDF_PARTIAL_SET'][2])-1):\n",
    "            if (whole_data[j]['PeDF_PARTIAL_SET'][2][i]>whole_data[j]['PeDF_PARTIAL_SET'][2][i-1] and whole_data[j]['PeDF_PARTIAL_SET'][2][i]>whole_data[j]['PeDF_PARTIAL_SET'][2][i+1]):\n",
    "                listaux0.append(whole_data[j]['PeDF_PARTIAL_SET'][2][i])\n",
    "            else:\n",
    "                listaux0.append(0)\n",
    "        else: \n",
    "            listaux0.append(0)\n",
    "\n",
    "    for i in range(1,len(whole_data[0]['PeDF_PARTIAL_SET'][1])):\n",
    "        if (i<len(whole_data[0]['PeDF_PARTIAL_SET'][1])-1):\n",
    "            if (whole_data[j]['PeDF_PARTIAL_SET'][1][i]>whole_data[j]['PeDF_PARTIAL_SET'][1][i-1] and whole_data[j]['PeDF_PARTIAL_SET'][1][i]>whole_data[j]['PeDF_PARTIAL_SET'][1][i+1]):\n",
    "                listaux1.append(whole_data[j]['PeDF_PARTIAL_SET'][1][i])\n",
    "            else:\n",
    "                listaux1.append(0)\n",
    "        else: \n",
    "            listaux1.append(0)\n",
    "        if (i<len(whole_data[0]['PeDF_PARTIAL_SET'][0])-1):\n",
    "            if (whole_data[j]['PeDF_PARTIAL_SET'][0][i]>whole_data[j]['PeDF_PARTIAL_SET'][0][i-1] and whole_data[j]['PeDF_PARTIAL_SET'][0][i]>whole_data[j]['PeDF_PARTIAL_SET'][0][i+1]):\n",
    "                listaux2.append(whole_data[j]['PeDF_PARTIAL_SET'][2][i])\n",
    "            else:\n",
    "                listaux2.append(0)\n",
    "        else: \n",
    "            listaux2.append(0)\n",
    "            \n",
    "#Setar shape 298, 149, 149 17x18 = 306 \n",
    "    for i in range(0,8):\n",
    "        listaux0.append(0)\n",
    "    for i in range(0,8+149):\n",
    "        listaux1.append(0)\n",
    "        listaux2.append(0)\n",
    "\n",
    "#\n",
    "    lista.append([listaux0, listaux1, listaux2]) #len = 3*306*4180 - 3837240 dados\n",
    "#print(lista[2][0])\n",
    "lista = np.array(lista).reshape(len(whole_data),3,17,18) #(4180,3,17,18)\n",
    "\n",
    "# exemplos --> nível wavelet --> imagem (17x18)\n",
    "listaux0 = np.array(listaux0).reshape(17,18)\n",
    "listaux1 = np.array(listaux1).reshape(17,18)\n",
    "listaux2 = np.array(listaux2).reshape(17,18)\n",
    "\n",
    "print(lista[1].shape)\n",
    "#imagem\n",
    "\n",
    "imgplot = plt.imshow(lista[1][2])\n"
   ]
  },
  {
   "cell_type": "code",
   "execution_count": 8,
   "metadata": {},
   "outputs": [
    {
     "data": {
      "text/plain": [
       "Text(0.5,1,'A2')"
      ]
     },
     "execution_count": 8,
     "metadata": {},
     "output_type": "execute_result"
    },
    {
     "data": {
      "image/png": "[encoded data removed]",
      "text/plain": [
       "<Figure size 432x288 with 1 Axes>"
      ]
     },
     "metadata": {
      "needs_background": "light"
     },
     "output_type": "display_data"
    },
    {
     "data": {
      "image/png": "[encoded data removed]",
      "text/plain": [
       "<Figure size 432x288 with 1 Axes>"
      ]
     },
     "metadata": {
      "needs_background": "light"
     },
     "output_type": "display_data"
    },
    {
     "data": {
      "image/png": "[encoded data removed]",
      "text/plain": [
       "<Figure size 432x288 with 1 Axes>"
      ]
     },
     "metadata": {
      "needs_background": "light"
     },
     "output_type": "display_data"
    },
    {
     "data": {
      "image/png": "[encoded data removed]",
      "text/plain": [
       "<Figure size 432x288 with 1 Axes>"
      ]
     },
     "metadata": {
      "needs_background": "light"
     },
     "output_type": "display_data"
    }
   ],
   "source": [
    "fig = plt.figure()\n",
    "a = fig.add_subplot(2, 2, 1)\n",
    "#imgplot = plt.imshow(out)\n",
    "a.set_title('out')\n",
    "fig = plt.figure()\n",
    "a = fig.add_subplot(2, 2, 2)\n",
    "imgplot = plt.imshow(lista[0][0])\n",
    "a.set_title('D1')\n",
    "fig = plt.figure()\n",
    "a = fig.add_subplot(2, 2, 3)\n",
    "imgplot = plt.imshow(lista[0][1])\n",
    "a.set_title('D2')\n",
    "fig = plt.figure()\n",
    "a = fig.add_subplot(2, 2, 4)\n",
    "imgplot = plt.imshow(lista[0][2])\n",
    "a.set_title('A2')"
   ]
  },
  {
   "cell_type": "code",
   "execution_count": 9,
   "metadata": {},
   "outputs": [
    {
     "name": "stdout",
     "output_type": "stream",
     "text": [
      "(3845, 3, 17, 18)\n",
      "(335, 3, 17, 18)\n",
      "(3845, 38)\n",
      "(335, 38)\n"
     ]
    },
    {
     "name": "stderr",
     "output_type": "stream",
     "text": [
      "C:\\Users\\Enrique\\Anaconda3\\lib\\site-packages\\sklearn\\cross_validation.py:41: DeprecationWarning: This module was deprecated in version 0.18 in favor of the model_selection module into which all the refactored classes and functions are moved. Also note that the interface of the new CV iterators are different from that of this module. This module will be removed in 0.20.\n",
      "  \"This module will be removed in 0.20.\", DeprecationWarning)\n"
     ]
    }
   ],
   "source": [
    "from sklearn.cross_validation import train_test_split\n",
    "X_train, X_val, Y_train, Y_val = train_test_split(lista,Y,test_size=0.08,random_state=0)\n",
    "print(X_train.shape)\n",
    "print(X_val.shape)\n",
    "print(Y_train.shape)\n",
    "print(Y_val.shape)"
   ]
  },
  {
   "cell_type": "code",
   "execution_count": 10,
   "metadata": {},
   "outputs": [],
   "source": [
    "import keras,os\n",
    "from keras.models import Sequential\n",
    "from keras.layers import Dense, Conv2D, MaxPool2D , Flatten\n",
    "from keras.preprocessing.image import ImageDataGenerator\n",
    "import numpy as np"
   ]
  },
  {
   "cell_type": "code",
   "execution_count": 11,
   "metadata": {},
   "outputs": [],
   "source": [
    "model = Sequential()\n",
    "model.add(Conv2D(input_shape=(3,17,18),filters=64,kernel_size=(3,3),padding=\"same\", activation=\"relu\"))\n",
    "model.add(Conv2D(filters=64,kernel_size=(3,3),padding=\"same\", activation=\"relu\"))\n",
    "model.add(MaxPool2D(pool_size=(2,2),strides=(2,2)))\n",
    "#model.add(Conv2D(filters=64,kernel_size=(3,3),padding=\"same\", activation=\"relu\"))\n",
    "#model.add(MaxPool2D(pool_size=(2,2),strides=(2,2)))\n",
    "#model.add(Conv2D(filters=128, kernel_size=(3,3), padding=\"same\", activation=\"relu\"))\n",
    "#model.add(Conv2D(filters=128, kernel_size=(3,3), padding=\"same\", activation=\"relu\"))\n",
    "#model.add(MaxPool2D(pool_size=(2,2),strides=(2,2)))\n",
    "#model.add(Conv2D(filters=256, kernel_size=(3,3), padding=\"same\", activation=\"relu\"))\n",
    "#model.add(Conv2D(filters=256, kernel_size=(3,3), padding=\"same\", activation=\"relu\"))\n",
    "#model.add(Conv2D(filters=256, kernel_size=(3,3), padding=\"same\", activation=\"relu\"))\n",
    "#model.add(MaxPool2D(pool_size=(2,2),strides=(2,2)))\n",
    "#model.add(Conv2D(filters=512, kernel_size=(3,3), padding=\"same\", activation=\"relu\"))\n",
    "#model.add(Conv2D(filters=512, kernel_size=(3,3), padding=\"same\", activation=\"relu\"))\n",
    "#model.add(Conv2D(filters=512, kernel_size=(3,3), padding=\"same\", activation=\"relu\"))\n",
    "#model.add(MaxPool2D(pool_size=(2,2),strides=(2,2)))\n",
    "#model.add(Conv2D(filters=512, kernel_size=(3,3), padding=\"same\", activation=\"relu\"))\n",
    "#model.add(Conv2D(filters=512, kernel_size=(3,3), padding=\"same\", activation=\"relu\"))\n",
    "#model.add(Conv2D(filters=512, kernel_size=(3,3), padding=\"same\", activation=\"relu\"))\n",
    "#model.add(MaxPool2D(pool_size=(2,2),strides=(2,2)))\n",
    "model.add(Flatten())\n",
    "model.add(Dense(units=4096,activation=\"relu\"))\n",
    "model.add(Dense(units=4096,activation=\"relu\"))\n",
    "#model.add(Dense(units=19, activation=\"softmax\"))\n",
    "model.add(Dense(units=38, activation=\"softmax\"))"
   ]
  },
  {
   "cell_type": "code",
   "execution_count": 12,
   "metadata": {},
   "outputs": [],
   "source": [
    "from keras.optimizers import Adam\n",
    "opt = Adam(lr=0.001)\n",
    "model.compile(optimizer=opt, loss=keras.losses.categorical_crossentropy, metrics=['accuracy'])"
   ]
  },
  {
   "cell_type": "code",
   "execution_count": 13,
   "metadata": {},
   "outputs": [
    {
     "name": "stdout",
     "output_type": "stream",
     "text": [
      "Model: \"sequential_1\"\n",
      "_________________________________________________________________\n",
      "Layer (type)                 Output Shape              Param #   \n",
      "=================================================================\n",
      "conv2d_1 (Conv2D)            (None, 3, 17, 64)         10432     \n",
      "_________________________________________________________________\n",
      "conv2d_2 (Conv2D)            (None, 3, 17, 64)         36928     \n",
      "_________________________________________________________________\n",
      "max_pooling2d_1 (MaxPooling2 (None, 1, 8, 64)          0         \n",
      "_________________________________________________________________\n",
      "flatten_1 (Flatten)          (None, 512)               0         \n",
      "_________________________________________________________________\n",
      "dense_1 (Dense)              (None, 4096)              2101248   \n",
      "_________________________________________________________________\n",
      "dense_2 (Dense)              (None, 4096)              16781312  \n",
      "_________________________________________________________________\n",
      "dense_3 (Dense)              (None, 38)                155686    \n",
      "=================================================================\n",
      "Total params: 19,085,606\n",
      "Trainable params: 19,085,606\n",
      "Non-trainable params: 0\n",
      "_________________________________________________________________\n"
     ]
    }
   ],
   "source": [
    "model.summary()"
   ]
  },
  {
   "cell_type": "code",
   "execution_count": 14,
   "metadata": {},
   "outputs": [
    {
     "name": "stdout",
     "output_type": "stream",
     "text": [
      "Epoch 1/5\n",
      "3845/3845 [==============================] - 58s 15ms/step - loss: 1.6072 - accuracy: 0.5662\n",
      "Epoch 2/5\n",
      "3845/3845 [==============================] - 54s 14ms/step - loss: 0.8974 - accuracy: 0.7534\n",
      "Epoch 3/5\n",
      "3845/3845 [==============================] - 57s 15ms/step - loss: 0.7005 - accuracy: 0.7938\n",
      "Epoch 4/5\n",
      "3845/3845 [==============================] - 53s 14ms/step - loss: 0.5871 - accuracy: 0.8283\n",
      "Epoch 5/5\n",
      "3845/3845 [==============================] - 53s 14ms/step - loss: 0.4745 - accuracy: 0.8520\n"
     ]
    }
   ],
   "source": [
    "epochs=5\n",
    "H = model.fit(X_train, Y_train, batch_size=32, epochs=epochs)"
   ]
  },
  {
   "cell_type": "code",
   "execution_count": 15,
   "metadata": {},
   "outputs": [
    {
     "data": {
      "text/plain": [
       "<matplotlib.legend.Legend at 0xd9d9cfd160>"
      ]
     },
     "execution_count": 15,
     "metadata": {},
     "output_type": "execute_result"
    },
    {
     "data": {
      "image/png": "[encoded data removed]",
      "text/plain": [
       "<Figure size 432x288 with 1 Axes>"
      ]
     },
     "metadata": {},
     "output_type": "display_data"
    }
   ],
   "source": [
    "# plot the training loss and accuracy\n",
    "plt.style.use(\"ggplot\")\n",
    "plt.figure()\n",
    "plt.plot(np.arange(0, epochs), H.history[\"loss\"], label=\"train_loss\")\n",
    "plt.plot(np.arange(0, epochs), H.history[\"accuracy\"], label=\"train_acc\")\n",
    "plt.title(\"Training Loss and Accuracy on Dataset\")\n",
    "plt.xlabel(\"# Epoch\")\n",
    "plt.ylabel(\"Loss/Accuracy\")\n",
    "plt.legend(loc=\"lower left\")\n",
    "#plt.savefig(\"plot.png\")"
   ]
  },
  {
   "cell_type": "code",
   "execution_count": 16,
   "metadata": {},
   "outputs": [
    {
     "name": "stdout",
     "output_type": "stream",
     "text": [
      "[False False False False False False False False False False False False\n",
      " False False False  True False False False False False False False False\n",
      " False False False False False False False False False False False False\n",
      " False False]\n",
      "[0. 0. 0. 0. 0. 0. 0. 0. 0. 0. 0. 0. 0. 0. 0. 1. 0. 0. 0. 0. 0. 0. 0. 0.\n",
      " 0. 0. 0. 0. 0. 0. 0. 0. 0. 0. 0. 0. 0. 0.]\n"
     ]
    }
   ],
   "source": [
    "y_predval = model.predict(X_val)\n",
    "y_predval = (y_predval > 0.5)\n",
    "print(y_predval[10])\n",
    "print(Y_val[10])"
   ]
  },
  {
   "cell_type": "code",
   "execution_count": 17,
   "metadata": {},
   "outputs": [
    {
     "name": "stdout",
     "output_type": "stream",
     "text": [
      "[False False False False False  True False False False False False False\n",
      " False False False False False False False False False False False False\n",
      " False False False False False False False False False False False False\n",
      " False False]\n",
      "[0. 0. 0. 0. 0. 1. 0. 0. 0. 0. 0. 0. 0. 0. 0. 0. 0. 0. 0. 0. 0. 0. 0. 0.\n",
      " 0. 0. 0. 0. 0. 0. 0. 0. 0. 0. 0. 0. 0. 0.]\n"
     ]
    }
   ],
   "source": [
    "y_predtrain = model.predict(X_train)\n",
    "y_predtrain = (y_predtrain > 0.5)\n",
    "print(y_predtrain[1])\n",
    "print(Y_train[1])"
   ]
  },
  {
   "cell_type": "code",
   "execution_count": 18,
   "metadata": {},
   "outputs": [
    {
     "name": "stdout",
     "output_type": "stream",
     "text": [
      "[[37  0]\n",
      " [ 0  1]]\n"
     ]
    }
   ],
   "source": [
    "from sklearn.metrics import confusion_matrix\n",
    "cmval = confusion_matrix(Y_val[1], y_predval[1])\n",
    "print(cmval)"
   ]
  },
  {
   "cell_type": "code",
   "execution_count": 19,
   "metadata": {},
   "outputs": [
    {
     "name": "stdout",
     "output_type": "stream",
     "text": [
      "O conjunto de treinamento acertou 3563 músicas das 3845 do database\n",
      "O conjunto de acertou acertou 291 músicas das 335 do database\n"
     ]
    }
   ],
   "source": [
    "a=0\n",
    "for i in range(0,len(Y_val)):\n",
    "    cm = confusion_matrix(Y_val[i], y_predval[i])\n",
    "    if (cm[0][0]==37):\n",
    "        a=a+1\n",
    "b=0\n",
    "for i in range(0,len(Y_train)):\n",
    "    cm = confusion_matrix(Y_train[i], y_predtrain[i])\n",
    "    if (cm[0][0]==37):\n",
    "        b=b+1\n",
    "\n",
    "print(f\"O conjunto de treinamento acertou {b} músicas das {len(Y_train)} do database\")\n",
    "print(f\"O conjunto de acertou acertou {a} músicas das {len(Y_val)} do database\")"
   ]
  },
  {
   "cell_type": "code",
   "execution_count": 20,
   "metadata": {},
   "outputs": [
    {
     "name": "stdout",
     "output_type": "stream",
     "text": [
      "O conjunto de treinamento tem 92.66579973992198% de acerto.\n",
      "O conjunto de validação tem 86.86567164179104% de acerto.\n"
     ]
    }
   ],
   "source": [
    "print(f\"O conjunto de treinamento tem {b*100/(len(Y_train))}% de acerto.\")\n",
    "print(f\"O conjunto de validação tem {a*100/(len(Y_val))}% de acerto.\")"
   ]
  },
  {
   "cell_type": "code",
   "execution_count": null,
   "metadata": {},
   "outputs": [],
   "source": []
  },
  {
   "cell_type": "code",
   "execution_count": null,
   "metadata": {},
   "outputs": [],
   "source": []
  },
  {
   "cell_type": "code",
   "execution_count": null,
   "metadata": {},
   "outputs": [],
   "source": []
  }
 ],
 "metadata": {
  "kernelspec": {
   "display_name": "Python 3",
   "language": "python",
   "name": "python3"
  },
  "language_info": {
   "codemirror_mode": {
    "name": "ipython",
    "version": 3
   },
   "file_extension": ".py",
   "mimetype": "text/x-python",
   "name": "python",
   "nbconvert_exporter": "python",
   "pygments_lexer": "ipython3",
   "version": "3.7.0"
  }
 },
 "nbformat": 4,
 "nbformat_minor": 2
}
