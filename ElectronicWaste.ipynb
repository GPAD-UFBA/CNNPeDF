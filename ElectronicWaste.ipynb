{
 "cells": [
  {
   "cell_type": "code",
   "execution_count": null,
   "metadata": {},
   "outputs": [],
   "source": [
    "cmval = confusion_matrix(Y_val[1], y_predval[1])\n",
    "\n",
    "print(cmval, Y_val[0]) "
   ]
  },
  {
   "cell_type": "code",
   "execution_count": null,
   "metadata": {},
   "outputs": [],
   "source": [
    "b=0\n",
    "for i in range(0,len(Y_val)):\n",
    "    cm = confusion_matrix(Y_val[i], y_predval[i])\n",
    "    if (cm[0][0]==84):\n",
    "        b=b+1\n",
    "a=0\n",
    "for i in range(0,len(Y_train)):\n",
    "    cm = confusion_matrix(Y_train[i], y_predtrain[i])\n",
    "    if (cm[0][0]==84):\n",
    "        a=a+1\n",
    "c=0\n",
    "for i in range(0,len(Y_test)):\n",
    "    cm = confusion_matrix(Y_test[i], y_predtest[i])\n",
    "    if (cm[0][0]==84):\n",
    "        c=c+1\n",
    "\n",
    "print(f\"O conjunto de treinamento acertou {a} músicas das {len(Y_train)} do database\")\n",
    "print(f\"O conjunto de validação acertou {b} músicas das {len(Y_val)} do database\")\n",
    "print(f\"O conjunto de teste acertou acertou {c} músicas das {len(Y_test)} do database\")"
   ]
  },
  {
   "cell_type": "code",
   "execution_count": null,
   "metadata": {},
   "outputs": [],
   "source": [
    "print(f\"O conjunto de treinamento tem {round(a*100/(len(Y_train)),2)}% de acerto.\")\n",
    "print(f\"O conjunto de validação tem {round(b*100/(len(Y_val)),2)}% de acerto.\")\n",
    "print(f\"O conjunto de teste tem {c*100/(len(Y_test))}% de acerto.\")"
   ]
  },
  {
   "cell_type": "code",
   "execution_count": null,
   "metadata": {},
   "outputs": [],
   "source": [
    "#Predizer exemplos isolados:\n",
    "\n",
    "model.predict(X_test[:4]) #prediz do 0 até o 3o ex\n",
    "\n"
   ]
  }
 ],
 "metadata": {
  "kernelspec": {
   "display_name": "Python 3",
   "language": "python",
   "name": "python3"
  },
  "language_info": {
   "codemirror_mode": {
    "name": "ipython",
    "version": 3
   },
   "file_extension": ".py",
   "mimetype": "text/x-python",
   "name": "python",
   "nbconvert_exporter": "python",
   "pygments_lexer": "ipython3",
   "version": "3.7.0"
  }
 },
 "nbformat": 4,
 "nbformat_minor": 2
}
