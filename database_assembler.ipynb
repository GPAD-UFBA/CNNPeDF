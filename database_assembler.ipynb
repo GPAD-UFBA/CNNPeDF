{
 "cells": [
  {
   "cell_type": "code",
   "execution_count": 2,
   "metadata": {},
   "outputs": [],
   "source": [
    "from gpad_data_generation import *\n",
    "from data_loader import *\n",
    "import sounddevice as sd\n",
    "import numpy as np\n",
    "\n",
    "# To parse the xml\n",
    "file = \"extendedballroom_v1.1.xml\"\n",
    "\n",
    "import xml.etree.ElementTree as ET\n",
    "tree = ET.parse(file)\n",
    "root = tree.getroot()\n",
    "# To mesure the running time\n",
    "import time\n",
    "# To store the data\n",
    "import h5py"
   ]
  },
  {
   "cell_type": "code",
   "execution_count": 3,
   "metadata": {},
   "outputs": [
    {
     "name": "stdout",
     "output_type": "stream",
     "text": [
      "O tempo de execução foi de 0.17245817184448242 segundos\n"
     ]
    }
   ],
   "source": [
    "# xml parsing\n",
    "start = time.time()\n",
    "i = 0\n",
    "i_break = -1\n",
    "for elem in root:\n",
    "    # Here we collect the name of the directory\n",
    "    directory = str(elem.tag) + \"/\"\n",
    "    # print(directory)\n",
    "    for subelem in elem:\n",
    "        # Here we collect the name of file\n",
    "        music = subelem.attrib['id'] + \".mp3\"\n",
    "        music_name = subelem.attrib['title']        \n",
    "        bbpm = int(subelem.attrib['bpm'])\n",
    "        filename = directory + music\n",
    "        \n",
    "        try:\n",
    "            # Here we get the ODFs, PeDFs and coeffs\n",
    "            ODF_SET, PeDF_FULL_SET, PeDF_PARTIAL_SET, coeffs = music_processor(filename, start_sample=2**19, final_sample=2**20, sample_rate=44100, nivel_wavelet = 2)\n",
    "\n",
    "            # Opening the hdf5 file\n",
    "            hf = h5py.File('h5/n2data_extendedballroom_' + str(i) + '.hdf5','a')\n",
    "\n",
    "            # Storing Arrays\n",
    "            ODF = hf.create_group('ODF')\n",
    "            PeDFfull = hf.create_group('PeDFfull')\n",
    "            PeDFpartial = hf.create_group('PeDFpartial')\n",
    "            #coeffswav = hf.create_group('coeffswav')\n",
    "\n",
    "            for j in range(0,2):\n",
    "                ODF.create_dataset(\"ODF\" + str(j), data=ODF_SET[j])\n",
    "                PeDFfull.create_dataset(\"PeDFfull\" + str(j), data=PeDF_FULL_SET[j])\n",
    "                PeDFpartial.create_dataset(\"PeDFpartial\" + str(j), data=PeDF_PARTIAL_SET[j])\n",
    "                #coeffswav.create_dataset(\"coeffswav\" + str(j), data=coeffs[j])\n",
    "\n",
    "            bbbpm = np.array((1,1))\n",
    "            bbbpm = bbpm\n",
    "            bpm = hf.create_group('bpm')\n",
    "            bpm.create_dataset(\"bpm\", data=bbbpm)\n",
    "\n",
    "            # Storing Strings\n",
    "            # TODO - music / genre / title\n",
    "\n",
    "            # Closing the hdf5 file\n",
    "            hf.close()\n",
    "        except:\n",
    "            continue\n",
    "        \n",
    "        # Shows\n",
    "        if i%1 == 0:\n",
    "            print(f\"We've already made {i} calculations.\")\n",
    "\n",
    "        i = i + 1\n",
    "        if i == i_break:\n",
    "            break\n",
    "    if i == i_break:\n",
    "        break\n",
    "        \n",
    "end = time.time()\n",
    "print(f\"O tempo de execução foi de {end - start} segundos\")"
   ]
  },
  {
   "cell_type": "code",
   "execution_count": null,
   "metadata": {},
   "outputs": [],
   "source": []
  }
 ],
 "metadata": {
  "kernelspec": {
   "display_name": "Python 3",
   "language": "python",
   "name": "python3"
  },
  "language_info": {
   "codemirror_mode": {
    "name": "ipython",
    "version": 3
   },
   "file_extension": ".py",
   "mimetype": "text/x-python",
   "name": "python",
   "nbconvert_exporter": "python",
   "pygments_lexer": "ipython3",
   "version": "3.7.0"
  }
 },
 "nbformat": 4,
 "nbformat_minor": 4
}
