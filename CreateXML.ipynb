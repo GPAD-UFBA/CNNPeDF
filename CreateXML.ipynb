{
 "cells": [
  {
   "cell_type": "code",
   "execution_count": 1,
   "metadata": {},
   "outputs": [],
   "source": [
    "import xml.etree.ElementTree as ET\n",
    "import pandas as pd\n",
    "import numpy as np\n",
    "import xml.etree.ElementTree as ET\n",
    "import hashlib\n",
    "import os\n",
    "import sys\n",
    "import time\n",
    "try:\n",
    "    from urllib import urlretrieve\n",
    "except:\n",
    "    from urllib.request import urlretrieve\n"
   ]
  },
  {
   "cell_type": "code",
   "execution_count": 2,
   "metadata": {},
   "outputs": [
    {
     "name": "stdout",
     "output_type": "stream",
     "text": [
      "G/H/Y/TRGHYKU128F92F894F\n",
      "129.99567\n",
      "3606\n"
     ]
    }
   ],
   "source": [
    "id_and_bpm1 = np.array(pd.read_csv(\"bpms_database\\ACM_MIRUM.csv\"))\n",
    "id_and_bpm2 = np.array(pd.read_csv(\"bpms_database\\HAINSWORTH.csv\")) #carrompido\n",
    "id_and_bpm3 = np.array(pd.read_csv(\"bpms_database\\SMC_MIRUM.csv\"))\n",
    "id_and_bpm4 = np.array(pd.read_csv(\"bpms_database\\GTZAN_GENRES.csv\"))\n",
    "id_and_bpm5 = np.array(pd.read_csv(\"bpms_database\\EBALL.csv\"))\n",
    "id_and_bpm6 = np.array(pd.read_csv(\"bpms_database\\MTG.csv\"))\n",
    "id_and_bpm7 = np.array(pd.read_csv(\"bpms_database\\GIANTSTEPS.csv\"))\n",
    "id_and_bpm8 = np.array(pd.read_csv(\"bpms_database\\LMD.csv\"))\n",
    "\n",
    "\n",
    "#print(id_and_bpm2)\n",
    "print(id_and_bpm8[0][0]) #int\n",
    "print(id_and_bpm8[0][1])\n",
    "print(id_and_bpm8.shape[0])\n",
    "\n",
    "#id_and_bpm2 = pd.read_csv(\"census.csv\")"
   ]
  },
  {
   "cell_type": "code",
   "execution_count": 3,
   "metadata": {},
   "outputs": [
    {
     "name": "stdout",
     "output_type": "stream",
     "text": [
      "ESCOLHER DATABASE PARA IMPORTAÇÃO\n",
      "Opções de escolha:\n",
      "1 = ACM_MIRUM\n",
      "2 = HAINSWORTH\n",
      "3 = SMC_MIRUM\n",
      "4 = GTZAN_GENRES\n",
      "5 = EBALL\n",
      "6 = MTG\n",
      "7 = GIANTSTEPS\n",
      "8 = LMD\n"
     ]
    },
    {
     "name": "stdin",
     "output_type": "stream",
     "text": [
      "Qual Dataset será usado? 8\n"
     ]
    },
    {
     "name": "stdout",
     "output_type": "stream",
     "text": [
      "Você escolheu o Database= DataSet_LMD\n"
     ]
    }
   ],
   "source": [
    "print(\"ESCOLHER DATABASE PARA IMPORTAÇÃO\")\n",
    "print(\"Opções de escolha:\")\n",
    "print(\"1 = ACM_MIRUM\")\n",
    "print(\"2 = HAINSWORTH\")\n",
    "print(\"3 = SMC_MIRUM\")\n",
    "print(\"4 = GTZAN_GENRES\")\n",
    "print(\"5 = EBALL\")\n",
    "print(\"6 = MTG\")\n",
    "print(\"7 = GIANTSTEPS\")\n",
    "print(\"8 = LMD\")\n",
    "\n",
    "\n",
    "\n",
    "\n",
    "database=int(input('Qual Dataset será usado?'))\n",
    "if database==1:\n",
    "    title = \"DataSet_ACM\"\n",
    "    subtitle = \"acm_mirum\"\n",
    "    #filename = \"DataSet_ACM\"\n",
    "    number_examples = id_and_bpm1.shape[0] \n",
    "elif database==2:\n",
    "    title = \"DataSet_Hainsworth\"\n",
    "    subtitle = \"hainsworth\"\n",
    "    number_examples = id_and_bpm2.shape[0]\n",
    "elif database==3:\n",
    "    title = \"DataSet_SMC\"\n",
    "    subtitle = \"smc_mirum\"\n",
    "    number_examples = id_and_bpm3.shape[0]\n",
    "elif database==4:\n",
    "    title = \"DataSet_GTzan\"\n",
    "    subtitle = 'gtzan'\n",
    "    number_examples = id_and_bpm4.shape[0]\n",
    "elif database==5:\n",
    "    title = \"DataSet_EBall\"\n",
    "    subtitle= 'eball'\n",
    "    number_examples = id_and_bpm5.shape[0]\n",
    "elif database==6:\n",
    "    title = \"DataSet_MTG\"\n",
    "    subtitle= 'mtg'\n",
    "    number_examples = id_and_bpm6.shape[0]\n",
    "elif database==7:\n",
    "    title = \"DataSet_GIANTSTEPS\"\n",
    "    subtitle= 'giantsteps'\n",
    "    number_examples = id_and_bpm7.shape[0]\n",
    "elif database==8:\n",
    "    title = \"DataSet_LMD\"\n",
    "    subtitle= 'lmd'\n",
    "    number_examples = id_and_bpm8.shape[0]\n",
    "\n",
    "\n",
    "print(\"Você escolheu o Database=\", title)"
   ]
  },
  {
   "cell_type": "code",
   "execution_count": 4,
   "metadata": {},
   "outputs": [],
   "source": [
    "#=========Escrevendo Arquivo=========#\n",
    "root = ET.Element(title)\n",
    "#doc = ET.SubElement(root, \"song\")\n",
    "for i in range(0,number_examples):\n",
    "    if title==\"DataSet_Hainsworth\":\n",
    "        ET.SubElement(root, subtitle + \"_tempo\", bpm= str(id_and_bpm2[i][1]), id = str(id_and_bpm2[i][0])).text \n",
    "    elif title==\"DataSet_SMC\":\n",
    "        ET.SubElement(root, subtitle + \"_tempo\", bpm= str(id_and_bpm3[i][1]), id = str(id_and_bpm3[i][0])).text\n",
    "    elif title==\"DataSet_EBall\":\n",
    "        ET.SubElement(root, subtitle + \"_tempo\", bpm= str(id_and_bpm5[i][1]), id = str(id_and_bpm5[i][0])).text\n",
    "    elif title==\"DataSet_GTzan\":\n",
    "        ET.SubElement(root, subtitle + \"_tempo\", bpm= str(id_and_bpm4[i][1]), id = str(id_and_bpm4[i][0])).text \n",
    "    elif title==\"DataSet_MTG\":\n",
    "        ET.SubElement(root, subtitle + \"_tempo\", bpm= str(id_and_bpm6[i][1]), id = str(id_and_bpm6[i][0]) + \".LOFI\").text\n",
    "    elif title==\"DataSet_GIANTSTEPS\":\n",
    "        ET.SubElement(root, subtitle + \"_tempo\", bpm= str(id_and_bpm7[i][1]), id = str(id_and_bpm7[i][0])).text\n",
    "    elif title==\"DataSet_LMD\":\n",
    "        ET.SubElement(root, subtitle + \"_tempo\", bpm= str(id_and_bpm8[i][1]), id = \"lmd_matched_mp3/\" + str(id_and_bpm8[i][0]) ).text\n",
    "    else: #(ACM_MIRUM)\n",
    "        ET.SubElement(root, subtitle+ \"_tempo\", bpm= str(id_and_bpm1[i][1]), id = str(int(id_and_bpm1[i][0])) + \".clip\").text #= \"some value1\"\n",
    "\n",
    "tree = ET.ElementTree(root)\n",
    "tree.write(str(title) + \".xml\")"
   ]
  },
  {
   "cell_type": "code",
   "execution_count": 5,
   "metadata": {},
   "outputs": [],
   "source": [
    "from gpad_data_generation import *\n",
    "from data_loader import *\n",
    "import sounddevice as sd\n",
    "import numpy as np\n",
    "# To parse the xml\n",
    "\n",
    "import xml.etree.ElementTree as ET\n",
    "\n",
    "# To mesure the running time\n",
    "import time\n",
    "# To store the data\n",
    "import h5py"
   ]
  },
  {
   "cell_type": "code",
   "execution_count": 6,
   "metadata": {},
   "outputs": [
    {
     "name": "stdout",
     "output_type": "stream",
     "text": [
      "lmd_tempo/lmd_matched_mp3/I/I/F/TRIIFIA128E07912F6.mp3\n",
      "90.01520500000001\n"
     ]
    }
   ],
   "source": [
    "filename = os.path.join(str(title) + '.xml')\n",
    "tree = ET.parse(filename)\n",
    "root = tree.getroot()\n",
    "#root = tree.getroot()\n",
    "for elem in root:\n",
    "    #for subelem in elem:\n",
    "    directory = str(elem.tag) + \"/\"\n",
    "    if title==\"DataSet_SMC\" or title == \"DataSet_GTzan\":\n",
    "        music = elem.attrib['id'] + \".wav\"\n",
    "    else:\n",
    "        music = elem.attrib['id'] + \".mp3\"\n",
    "    a = elem.attrib['bpm']\n",
    "    filename2 = directory + music\n",
    "    \n",
    "print(filename2)\n",
    "print(a)"
   ]
  },
  {
   "cell_type": "code",
   "execution_count": 7,
   "metadata": {},
   "outputs": [],
   "source": [
    "#from playsound import playsound\n",
    "#playsound(filename2)\n"
   ]
  },
  {
   "cell_type": "code",
   "execution_count": 8,
   "metadata": {},
   "outputs": [
    {
     "name": "stdout",
     "output_type": "stream",
     "text": [
      "We've already made 0 calculations.\n",
      "We've already made 100 calculations.\n",
      "We've already made 200 calculations.\n",
      "We've already made 300 calculations.\n",
      "We've already made 400 calculations.\n",
      "We've already made 500 calculations.\n",
      "We've already made 600 calculations.\n",
      "We've already made 700 calculations.\n",
      "We've already made 800 calculations.\n",
      "We've already made 900 calculations.\n",
      "We've already made 1000 calculations.\n",
      "We've already made 1100 calculations.\n",
      "We've already made 1200 calculations.\n",
      "We've already made 1300 calculations.\n",
      "We've already made 1400 calculations.\n",
      "We've already made 1500 calculations.\n",
      "We've already made 1600 calculations.\n",
      "We've already made 1700 calculations.\n",
      "We've already made 1800 calculations.\n",
      "We've already made 1900 calculations.\n",
      "We've already made 2000 calculations.\n",
      "We've already made 2100 calculations.\n",
      "We've already made 2200 calculations.\n"
     ]
    },
    {
     "name": "stderr",
     "output_type": "stream",
     "text": [
      "C:\\Users\\Enrique\\Documents\\8. GPAD\\CNNPeDF\\gpad_data_generation.py:68: RuntimeWarning: invalid value encountered in true_divide\n",
      "  ODF = odf_raw / np.max(odf_raw)\n"
     ]
    },
    {
     "name": "stdout",
     "output_type": "stream",
     "text": [
      "We've already made 2300 calculations.\n",
      "We've already made 2400 calculations.\n",
      "We've already made 2500 calculations.\n",
      "We've already made 2600 calculations.\n",
      "We've already made 2700 calculations.\n",
      "We've already made 2800 calculations.\n",
      "We've already made 2900 calculations.\n",
      "We've already made 3000 calculations.\n",
      "We've already made 3100 calculations.\n",
      "We've already made 3200 calculations.\n",
      "We've already made 3300 calculations.\n",
      "We've already made 3400 calculations.\n",
      "We've already made 3500 calculations.\n",
      "We've already made 3600 calculations.\n",
      "O tempo de execução foi de 1685.2084937095642 segundos\n"
     ]
    }
   ],
   "source": [
    "start = time.time()\n",
    "i = 0\n",
    "i_break = -1\n",
    "a=0\n",
    "filename = os.path.join(str(title) + '.xml')\n",
    "tree = ET.parse(filename)\n",
    "root = tree.getroot()\n",
    "#root = tree.getroot()\n",
    "for elem in root:\n",
    "    #for subelem in elem:\n",
    "    directory = str(elem.tag) + \"/\"\n",
    "    if title==\"DataSet_SMC\" or title == \"DataSet_GTzan\":\n",
    "        music = elem.attrib['id'] + \".wav\"\n",
    "    else:\n",
    "        music = elem.attrib['id'] + \".mp3\"\n",
    "    filename2 = directory + music\n",
    "\n",
    "    try:\n",
    "        # Here we get the ODFs, PeDFs and coeffs\n",
    "        ODF_SET, PeDF_FULL_SET, PeDF_PARTIAL_SET, coeffs = music_processor(filename2, start_sample=2**19, final_sample=2**20, sample_rate=44100, nivel_wavelet = 2)\n",
    "        # Opening the hdf5 file\n",
    "        hf = h5py.File('h5/n2data_' + str(subtitle) + '_' + str(i) + '.hdf5','a')\n",
    "\n",
    "        # Storing Arrays\n",
    "        ODF = hf.create_group('ODF')\n",
    "        PeDFfull = hf.create_group('PeDFfull')\n",
    "        PeDFpartial = hf.create_group('PeDFpartial')\n",
    "        #coeffswav = hf.create_group('coeffswav')\n",
    "\n",
    "        for j in range(0,3):\n",
    "            ODF.create_dataset(\"ODF\" + str(j), data=ODF_SET[j])\n",
    "            PeDFfull.create_dataset(\"PeDFfull\" + str(j), data=PeDF_FULL_SET[j])\n",
    "            PeDFpartial.create_dataset(\"PeDFpartial\" + str(j), data=PeDF_PARTIAL_SET[j])\n",
    "            #coeffswav.create_dataset(\"coeffswav\" + str(j), data=coeffs[j])\n",
    "\n",
    "        bpm = hf.create_group('bpm')\n",
    "        bpm.create_dataset(\"bpm\", data=elem.attrib['bpm'])\n",
    "        \n",
    "        hf.close()\n",
    "    except:\n",
    "        continue\n",
    "        \n",
    "    #Shows\n",
    "    if i%100 == 0:\n",
    "        print(f\"We've already made {i} calculations.\")\n",
    "\n",
    "    i = i + 1\n",
    "    if i == i_break:\n",
    "        break\n",
    "    \n",
    "\n",
    "end = time.time()\n",
    "print(f\"O tempo de execução foi de {end - start} segundos\")\n"
   ]
  },
  {
   "cell_type": "code",
   "execution_count": null,
   "metadata": {},
   "outputs": [],
   "source": []
  }
 ],
 "metadata": {
  "kernelspec": {
   "display_name": "Python 3",
   "language": "python",
   "name": "python3"
  },
  "language_info": {
   "codemirror_mode": {
    "name": "ipython",
    "version": 3
   },
   "file_extension": ".py",
   "mimetype": "text/x-python",
   "name": "python",
   "nbconvert_exporter": "python",
   "pygments_lexer": "ipython3",
   "version": "3.7.0"
  }
 },
 "nbformat": 4,
 "nbformat_minor": 2
}
