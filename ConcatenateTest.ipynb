{
 "cells": [
  {
   "cell_type": "code",
   "execution_count": 1,
   "metadata": {},
   "outputs": [
    {
     "name": "stderr",
     "output_type": "stream",
     "text": [
      "C:\\Users\\Enrique\\Anaconda3\\lib\\site-packages\\ipykernel\\parentpoller.py:116: UserWarning: Parent poll failed.  If the frontend dies,\n",
      "                the kernel may be left running.  Please let us know\n",
      "                about your system (bitness, Python, etc.) at\n",
      "                ipython-dev@scipy.org\n",
      "  ipython-dev@scipy.org\"\"\")\n"
     ]
    }
   ],
   "source": [
    "from data_loader_DATA import *\n",
    "#import numpy as np\n",
    "#import pandas as pd\n",
    "import h5py"
   ]
  },
  {
   "cell_type": "code",
   "execution_count": 2,
   "metadata": {},
   "outputs": [
    {
     "name": "stdout",
     "output_type": "stream",
     "text": [
      "X_test Size acm_mirum (1410, 17, 18, 3)\n",
      "Y_test Size acm_mirum (1410, 250)\n",
      "X_test Size smc_mirum (217, 17, 18, 3)\n",
      "Y_test Size smc_mirum (217, 250)\n",
      "X_test Size hainsworth (221, 17, 18, 3)\n",
      "Y_test Size hainsworth (221, 250)\n",
      "X_test Size giantsteps (661, 17, 18, 3)\n",
      "Y_test Size giantsteps (661, 250)\n",
      "\n",
      "X_train Size (2509, 17, 18, 3)\n",
      "Y_train Size (2509, 250)\n"
     ]
    }
   ],
   "source": [
    "test=[\"acm_mirum\",\"smc_mirum\",\"hainsworth\",\"giantsteps\"]\n",
    "for i in test:\n",
    "    filename=i\n",
    "    whole_data_test = []\n",
    "    file_to_load = 'h5/Data_' + str(filename) + '.hdf5'\n",
    "    data = data_loader_DATA(file_to_load,filename)\n",
    "    whole_data_test.append(data)\n",
    "    print('X_test Size '+str(i),whole_data_test[0]['X_test'][0].shape)\n",
    "    print('Y_test Size '+str(i),whole_data_test[0]['Y_test'][0].shape)\n",
    "    X_test = whole_data_test[0]['X_test'][0]\n",
    "    Y_test = whole_data_test[0]['Y_test'][0]\n",
    "\n",
    "    if i==\"acm_mirum\":\n",
    "        X_test_0 = X_test\n",
    "        Y_test_0 = Y_test\n",
    "    elif i==\"smc_mirum\":\n",
    "        X_test_1 = X_test\n",
    "        Y_test_1 = Y_test\n",
    "    elif i==\"hainsworth\":\n",
    "        X_test_2 = X_test\n",
    "        Y_test_2 = Y_test\n",
    "    elif i==\"giantsteps\":\n",
    "        X_test_3 = X_test\n",
    "        Y_test_3 = Y_test\n",
    "\n",
    "\n",
    "X_test=np.concatenate((X_test_0,X_test_1,X_test_2,X_test_3))\n",
    "Y_test=np.concatenate((Y_test_0,Y_test_1,Y_test_2,Y_test_3))\n",
    "print()\n",
    "print('X_test Size',X_test.shape)\n",
    "print('Y_test Size',Y_test.shape)"
   ]
  },
  {
   "cell_type": "code",
   "execution_count": 3,
   "metadata": {},
   "outputs": [],
   "source": [
    "hf = h5py.File('h5/Data_concatset.hdf5','a')\n",
    "\n",
    "Xtest = hf.create_group('Xtest')\n",
    "Ytest = hf.create_group('Ytest')\n",
    "Xtest.create_dataset(\"Xtest\", data=X_test)\n",
    "Ytest.create_dataset(\"Ytest\", data=Y_test)\n",
    "\n",
    "hf.close()"
   ]
  },
  {
   "cell_type": "code",
   "execution_count": null,
   "metadata": {},
   "outputs": [],
   "source": []
  }
 ],
 "metadata": {
  "kernelspec": {
   "display_name": "Python 3",
   "language": "python",
   "name": "python3"
  },
  "language_info": {
   "codemirror_mode": {
    "name": "ipython",
    "version": 3
   },
   "file_extension": ".py",
   "mimetype": "text/x-python",
   "name": "python",
   "nbconvert_exporter": "python",
   "pygments_lexer": "ipython3",
   "version": "3.7.0"
  }
 },
 "nbformat": 4,
 "nbformat_minor": 2
}
