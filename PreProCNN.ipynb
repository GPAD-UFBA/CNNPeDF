{
 "cells": [
  {
   "cell_type": "code",
   "execution_count": 1,
   "metadata": {},
   "outputs": [],
   "source": [
    "from data_loader import *\n",
    "import numpy as np\n",
    "import h5py\n",
    "from sklearn.preprocessing import OneHotEncoder\n",
    "import matplotlib.pyplot as plt\n",
    "import matplotlib.image as mpimg"
   ]
  },
  {
   "cell_type": "code",
   "execution_count": 2,
   "metadata": {},
   "outputs": [
    {
     "name": "stdout",
     "output_type": "stream",
     "text": [
      "We've already made 0 importation.\n",
      "We've already made 1000 importation.\n",
      "We've already made 2000 importation.\n",
      "We've already made 3000 importation.\n",
      "We've already made 4000 importation.\n",
      "4180\n"
     ]
    }
   ],
   "source": [
    "whole_data = []\n",
    "\n",
    "# loop from 0 to the number of .hdf5 files you want to load\n",
    "nb_files = 4180\n",
    "\n",
    "for i in range(0,nb_files):\n",
    "    # Selects the file\n",
    "    file_to_load = 'h5/n2data_extended_ballroom_' + str(i) + '.hdf5'\n",
    "    \n",
    "    # Gets data\n",
    "    data = data_loader(file_to_load)\n",
    "    whole_data.append(data)\n",
    "    if i%1000 == 0:\n",
    "            print(f\"We've already made {i} importation.\")\n",
    "\n",
    "    \n",
    "print(len(whole_data))"
   ]
  },
  {
   "cell_type": "code",
   "execution_count": 3,
   "metadata": {},
   "outputs": [
    {
     "name": "stdout",
     "output_type": "stream",
     "text": [
      "<class 'numpy.ndarray'>\n",
      "O database possui 4180 exemplos de treinamento.\n",
      "O nível Wavelet A2 tem 149 amostras.\n",
      "O nível Wavelet D2 tem 149 amostras.\n",
      "O nível Wavelet D1 tem 298 amostras.\n",
      "87\n"
     ]
    }
   ],
   "source": [
    "# LIST -> Dictionary(Data) -> Features(numpy.ndarray)\n",
    "# m -> the m-th example\n",
    "# feature -> ODF_SET, PeDF_FULL_SET, PeDF_PARTIAL_SET, coeffs\n",
    "# wavelet_level -> wavelet level\n",
    "# whole_data[m][feature][wavelet_level]\n",
    "\n",
    "print(type(whole_data[0]['ODF_SET'][0]))\n",
    "\n",
    "print(f\"O database possui {len(whole_data)} exemplos de treinamento.\")\n",
    "print(f\"O nível Wavelet A2 tem {len(whole_data[0]['PeDF_PARTIAL_SET'][0])} amostras.\")\n",
    "print(f\"O nível Wavelet D2 tem {len(whole_data[0]['PeDF_PARTIAL_SET'][1])} amostras.\")\n",
    "print(f\"O nível Wavelet D1 tem {len(whole_data[0]['PeDF_PARTIAL_SET'][2])} amostras.\")\n",
    "\n",
    "print(whole_data[0]['bpm'])"
   ]
  },
  {
   "cell_type": "code",
   "execution_count": 4,
   "metadata": {},
   "outputs": [
    {
     "name": "stdout",
     "output_type": "stream",
     "text": [
      "O valor máximo de andamento é 216.\n",
      "O valor mínimo de andamento é 65.\n",
      "<class 'numpy.ndarray'>\n"
     ]
    }
   ],
   "source": [
    "# CRIANDO VETOR PRÓPRIO Y\n",
    "y = []\n",
    "for j in range(0,len(whole_data)): \n",
    "    y.append(whole_data[j]['bpm'])\n",
    "    \n",
    "print(f\"O valor máximo de andamento é {np.max(y)}.\")\n",
    "print(f\"O valor mínimo de andamento é {np.min(y)}.\")\n",
    "#print(y)\n",
    "y = np.array(y).reshape(len(whole_data),1)\n",
    "print(type(y))\n"
   ]
  },
  {
   "cell_type": "code",
   "execution_count": 5,
   "metadata": {},
   "outputs": [
    {
     "name": "stdout",
     "output_type": "stream",
     "text": [
      "-\n",
      "[[65], [66], [68], [72], [74], [76], [78], [80], [81], [82], [83], [84], [85], [86], [87], [88], [90], [92], [93], [94], [95], [96], [98], [100], [102], [104], [106], [107], [108], [110], [111], [112], [113], [114], [115], [116], [117], [118], [119], [120], [122], [123], [124], [125], [127], [128], [129], [130], [131], [132], [133], [134], [135], [136], [138], [140], [142], [144], [148], [151], [152], [153], [156], [157], [160], [164], [168], [171], [172], [174], [175], [176], [177], [180], [184], [186], [188], [192], [196], [200], [202], [204], [208], [212], [216]]\n",
      "-\n",
      "[1, 2, 3, 5, 6, 8, 16, 17, 29, 31, 33, 35, 240, 245, 246, 631, 660, 669, 734, 735, 737, 738, 858, 876, 1349, 1518, 1565, 1567, 1568, 1586, 1587, 1590, 1741, 1742, 1746, 1748, 2119, 2123, 2151, 2153, 2240, 2243, 2244, 2696, 2700, 2703, 3024, 3027, 3030, 3031, 3048, 3050, 3052, 3053, 3062, 3063, 3067, 3070, 3077, 3081, 3082, 3092, 3093, 3097, 3098, 3112, 3126, 3181, 3192, 3389, 3470, 3482, 3495, 3627, 3666, 3670, 3671, 3674, 3681, 3696, 4057, 4058, 4160, 4179, 4180]\n",
      "-\n",
      "[1, 5, 6, 33, 130, 140, 164, 227, 330, 337, 530, 537, 548, 562, 596, 620, 805, 844, 847, 848, 851, 852, 853, 858, 860, 862, 864, 873, 874, 881, 916, 917, 918, 919, 920, 921, 923, 924, 928, 932, 933, 940, 994, 995, 996, 1049, 1056, 1070, 1099, 1312, 1507, 1607, 1742, 1753, 1756, 1757, 1804, 1818, 1842, 2147, 2294, 2500, 2717, 2742, 2761, 2829, 2847, 2916, 2944, 3250, 3392, 3558, 3643, 3697, 3715, 3718, 3753, 3759, 3772, 3816, 3860, 4051, 4053, 4056, 4057]\n",
      "-\n",
      "[1, 1, 2, 1, 2, 8, 1, 12, 2, 2, 2, 205, 5, 1, 385, 29, 9, 65, 1, 2, 1, 120, 18, 473, 169, 47, 2, 1, 18, 1, 3, 151, 1, 4, 2, 371, 4, 28, 2, 87, 3, 1, 452, 4, 3, 321, 3, 3, 1, 17, 2, 2, 1, 9, 1, 4, 3, 7, 4, 1, 10, 1, 4, 1, 14, 14, 55, 11, 197, 81, 12, 13, 132, 39, 4, 1, 3, 7, 15, 361, 1, 102, 19, 1, 1]\n",
      "4180\n"
     ]
    }
   ],
   "source": [
    "aux2 = y.tolist()\n",
    "print(\"-\")\n",
    "def remove_repetidos(lista):\n",
    "    l = []\n",
    "    laux = []\n",
    "    a=0\n",
    "    for i in lista:\n",
    "        a=a+1\n",
    "        if i not in l:\n",
    "            l.append(i)\n",
    "            laux.append(a)\n",
    "    l.sort()\n",
    "    return l, laux\n",
    "\n",
    "classes_sort, posicao = remove_repetidos(aux2)\n",
    "\n",
    "print(classes_sort)\n",
    "aux2=sorted(aux2)\n",
    "print(\"-\")\n",
    "rcr = []\n",
    "recorrencia = []\n",
    "laux = []\n",
    "l = []\n",
    "a=0\n",
    "for i in aux2:\n",
    "    rcr.append(aux2.count(i))\n",
    "    a=a+1\n",
    "    if i not in l:\n",
    "        l.append(i)\n",
    "        laux.append(a)\n",
    "\n",
    "for i in laux:\n",
    "    recorrencia.append(rcr[i-1])\n",
    "\n",
    "print(laux)\n",
    "print(\"-\")\n",
    "print(posicao)\n",
    "\n",
    "print(\"-\")\n",
    "print(recorrencia)\n",
    "print(sum(recorrencia))\n"
   ]
  },
  {
   "cell_type": "code",
   "execution_count": 6,
   "metadata": {},
   "outputs": [
    {
     "name": "stdout",
     "output_type": "stream",
     "text": [
      "(4180, 85)\n",
      "[0. 0. 0. 0. 0. 0. 0. 0. 0. 0. 0. 0. 0. 0. 1. 0. 0. 0. 0. 0. 0. 0. 0. 0.\n",
      " 0. 0. 0. 0. 0. 0. 0. 0. 0. 0. 0. 0. 0. 0. 0. 0. 0. 0. 0. 0. 0. 0. 0. 0.\n",
      " 0. 0. 0. 0. 0. 0. 0. 0. 0. 0. 0. 0. 0. 0. 0. 0. 0. 0. 0. 0. 0. 0. 0. 0.\n",
      " 0. 0. 0. 0. 0. 0. 0. 0. 0. 0. 0. 0. 0.]\n"
     ]
    }
   ],
   "source": [
    "np.array(y).reshape(len(whole_data),1)\n",
    "onehotencoder = OneHotEncoder()\n",
    "Y = onehotencoder.fit_transform(y).toarray()\n",
    "print(Y.shape)\n",
    "print(Y[1])"
   ]
  },
  {
   "cell_type": "code",
   "execution_count": 7,
   "metadata": {},
   "outputs": [
    {
     "name": "stdout",
     "output_type": "stream",
     "text": [
      "1.0\n",
      "(17, 18, 3)\n"
     ]
    },
    {
     "data": {
      "image/png": "[encoded data removed]",
      "text/plain": [
       "<Figure size 432x288 with 1 Axes>"
      ]
     },
     "metadata": {
      "needs_background": "light"
     },
     "output_type": "display_data"
    }
   ],
   "source": [
    "print(whole_data[0]['PeDF_PARTIAL_SET'][2][0])\n",
    "lista = []\n",
    "\n",
    "for j in range(0,len(whole_data)):  #varrer m-exemplos\n",
    "\n",
    "    listaux0 = []    #D1\n",
    "    listaux1 = []    #D2\n",
    "    listaux2 = []    #A2\n",
    "    listaux0.append(1)\n",
    "    listaux1.append(1)    \n",
    "    listaux2.append(1)  \n",
    "    for i in range(1,len(whole_data[0]['PeDF_PARTIAL_SET'][2])):\n",
    "        if (i<len(whole_data[j]['PeDF_PARTIAL_SET'][2])-1):\n",
    "            if (whole_data[j]['PeDF_PARTIAL_SET'][2][i]>whole_data[j]['PeDF_PARTIAL_SET'][2][i-1] and whole_data[j]['PeDF_PARTIAL_SET'][2][i]>whole_data[j]['PeDF_PARTIAL_SET'][2][i+1]):\n",
    "                listaux0.append(whole_data[j]['PeDF_PARTIAL_SET'][2][i])\n",
    "            else:\n",
    "                listaux0.append(0)\n",
    "        else: \n",
    "            listaux0.append(0)\n",
    "\n",
    "    for i in range(1,len(whole_data[0]['PeDF_PARTIAL_SET'][1])):\n",
    "        if (i<len(whole_data[0]['PeDF_PARTIAL_SET'][1])-1):\n",
    "            if (whole_data[j]['PeDF_PARTIAL_SET'][1][i]>whole_data[j]['PeDF_PARTIAL_SET'][1][i-1] and whole_data[j]['PeDF_PARTIAL_SET'][1][i]>whole_data[j]['PeDF_PARTIAL_SET'][1][i+1]):\n",
    "                listaux1.append(whole_data[j]['PeDF_PARTIAL_SET'][1][i])\n",
    "            else:\n",
    "                listaux1.append(0)\n",
    "        else: \n",
    "            listaux1.append(0)\n",
    "        if (i<len(whole_data[0]['PeDF_PARTIAL_SET'][0])-1):\n",
    "            if (whole_data[j]['PeDF_PARTIAL_SET'][0][i]>whole_data[j]['PeDF_PARTIAL_SET'][0][i-1] and whole_data[j]['PeDF_PARTIAL_SET'][0][i]>whole_data[j]['PeDF_PARTIAL_SET'][0][i+1]):\n",
    "                listaux2.append(whole_data[j]['PeDF_PARTIAL_SET'][2][i])\n",
    "            else:\n",
    "                listaux2.append(0)\n",
    "        else: \n",
    "            listaux2.append(0)\n",
    "            \n",
    "#Setar shape 298, 149, 149 17x18 = 306 \n",
    "    for i in range(0,8):\n",
    "        listaux0.append(0)\n",
    "    for i in range(0,8+149):\n",
    "        listaux1.append(0)\n",
    "        listaux2.append(0)\n",
    "\n",
    "#\n",
    "    lista.append([listaux0, listaux1, listaux2]) #len = 3*306*4180 - 3837240 dados\n",
    "#print(lista[2])\n",
    "#lista = np.array(lista).reshape(len(whole_data),3,17,18) #(4180,3,17,18)\n",
    "lista = np.array(lista).reshape(len(whole_data),17,18,3) #(4180,3,17,18)\n",
    "\n",
    "\n",
    "# exemplos --> nível wavelet --> imagem (17x18)\n",
    "listaux0 = np.array(listaux0).reshape(17,18)\n",
    "listaux1 = np.array(listaux1).reshape(17,18)\n",
    "listaux2 = np.array(listaux2).reshape(17,18)\n",
    "\n",
    "print(lista[1].shape)\n",
    "#imagem\n",
    "\n",
    "imgplot = plt.imshow(lista[2])\n"
   ]
  },
  {
   "cell_type": "code",
   "execution_count": 8,
   "metadata": {},
   "outputs": [
    {
     "data": {
      "text/plain": [
       "Text(0.5,1,'A2')"
      ]
     },
     "execution_count": 8,
     "metadata": {},
     "output_type": "execute_result"
    },
    {
     "data": {
      "image/png": "[encoded data removed]",
      "text/plain": [
       "<Figure size 432x288 with 1 Axes>"
      ]
     },
     "metadata": {
      "needs_background": "light"
     },
     "output_type": "display_data"
    },
    {
     "data": {
      "image/png": "[encoded data removed]",
      "text/plain": [
       "<Figure size 432x288 with 1 Axes>"
      ]
     },
     "metadata": {
      "needs_background": "light"
     },
     "output_type": "display_data"
    },
    {
     "data": {
      "image/png": "[encoded data removed]",
      "text/plain": [
       "<Figure size 432x288 with 1 Axes>"
      ]
     },
     "metadata": {
      "needs_background": "light"
     },
     "output_type": "display_data"
    },
    {
     "data": {
      "image/png": "[encoded data removed]",
      "text/plain": [
       "<Figure size 432x288 with 1 Axes>"
      ]
     },
     "metadata": {
      "needs_background": "light"
     },
     "output_type": "display_data"
    }
   ],
   "source": [
    "fig = plt.figure()\n",
    "a = fig.add_subplot(2, 2, 1)\n",
    "#k = np.concatenate((lista[0][1],lista[0][2],lista[0][0]),axis=1)\n",
    "#print(k.shape)\n",
    "#imgplot = plt.imshow(k)\n",
    "a.set_title('out')\n",
    "fig = plt.figure()\n",
    "a = fig.add_subplot(2, 2, 2)\n",
    "imgplot = plt.imshow(lista[0])\n",
    "a.set_title('D1')\n",
    "fig = plt.figure()\n",
    "a = fig.add_subplot(2, 2, 3)\n",
    "imgplot = plt.imshow(lista[1])\n",
    "a.set_title('D2')\n",
    "fig = plt.figure()\n",
    "a = fig.add_subplot(2, 2, 4)\n",
    "imgplot = plt.imshow(lista[2])\n",
    "a.set_title('A2')"
   ]
  },
  {
   "cell_type": "code",
   "execution_count": 9,
   "metadata": {},
   "outputs": [
    {
     "name": "stdout",
     "output_type": "stream",
     "text": [
      "Lista Size (4180, 17, 18, 3)\n",
      "Y Size (4180, 85)\n",
      "X_train Size (3653, 17, 18, 3)\n",
      "Y_train Size (3653, 85)\n",
      "X_val Size (427, 17, 18, 3)\n",
      "Y_val Size (427, 85)\n",
      "X_test Size (100, 17, 18, 3)\n",
      "Y_test Size (100, 85)\n"
     ]
    }
   ],
   "source": [
    "#from sklearn.cross_validation import train_test_split\n",
    "#X_train, X_val, Y_train, Y_val = train_test_split(lista,Y,test_size=0.08,random_state=0)\n",
    "#print('Lista Size',lista.shape)\n",
    "#print('Y Size', Y.shape)\n",
    "#print('X_train Size',X_train.shape)\n",
    "#print('X_val Size',X_val.shape)\n",
    "#print('Y_train Size',Y_train.shape)\n",
    "#print('Y_val Size',Y_val.shape)\n",
    "\n",
    "np.random.seed(0)\n",
    "np.random.shuffle(lista)\n",
    "np.random.seed(0)\n",
    "np.random.shuffle(Y)\n",
    "\n",
    "total_size = lista.shape[0]\n",
    "test_size = 100\n",
    "train_size = int((total_size - test_size)*0.92)\n",
    "val_size = (train_size)\n",
    "\n",
    "X_test = lista[0:test_size,:,:,:]\n",
    "Y_test = Y[0:test_size,:]\n",
    "\n",
    "X_train = lista[test_size:train_size,:,:,:]\n",
    "Y_train = Y[test_size:train_size,:]\n",
    "X_val = lista[val_size:total_size,:,:,:]\n",
    "Y_val = Y[val_size:total_size,:]\n",
    "\n",
    "print('Lista Size',lista.shape)\n",
    "print('Y Size', Y.shape)\n",
    "print('X_train Size',X_train.shape)\n",
    "print('Y_train Size',Y_train.shape)\n",
    "print('X_val Size',X_val.shape)\n",
    "print('Y_val Size',Y_val.shape)\n",
    "print('X_test Size',X_test.shape)\n",
    "print('Y_test Size',Y_test.shape)"
   ]
  },
  {
   "cell_type": "code",
   "execution_count": 10,
   "metadata": {},
   "outputs": [],
   "source": [
    "hf = h5py.File('h5/Data_extended_ballroom.hdf5','a')\n",
    "\n",
    "Xtrain = hf.create_group('Xtrain')\n",
    "Ytrain = hf.create_group('Ytrain')\n",
    "Xval = hf.create_group('Xval')\n",
    "Yval = hf.create_group('Yval')\n",
    "Xtest = hf.create_group('Xtest')\n",
    "Ytest = hf.create_group('Ytest')\n",
    "Classessort = hf.create_group('Classessort')\n",
    "Rcr = hf.create_group('Rcr')\n",
    "\n",
    "\n",
    "Xtrain.create_dataset(\"Xtrain\", data=X_train)\n",
    "Ytrain.create_dataset(\"Ytrain\", data=Y_train)\n",
    "Xval.create_dataset(\"Xval\", data=X_val)\n",
    "Yval.create_dataset(\"Yval\", data=Y_val)\n",
    "Xtest.create_dataset(\"Xtest\", data=X_test)\n",
    "Ytest.create_dataset(\"Ytest\", data=Y_test)\n",
    "Classessort.create_dataset(\"Classessort\", data=classes_sort)\n",
    "Rcr.create_dataset(\"Rcr\", data=recorrencia)\n",
    "\n",
    "hf.close()\n"
   ]
  },
  {
   "cell_type": "code",
   "execution_count": null,
   "metadata": {},
   "outputs": [],
   "source": []
  },
  {
   "cell_type": "code",
   "execution_count": null,
   "metadata": {},
   "outputs": [],
   "source": []
  }
 ],
 "metadata": {
  "kernelspec": {
   "display_name": "Python 3",
   "language": "python",
   "name": "python3"
  },
  "language_info": {
   "codemirror_mode": {
    "name": "ipython",
    "version": 3
   },
   "file_extension": ".py",
   "mimetype": "text/x-python",
   "name": "python",
   "nbconvert_exporter": "python",
   "pygments_lexer": "ipython3",
   "version": "3.7.0"
  }
 },
 "nbformat": 4,
 "nbformat_minor": 2
}
