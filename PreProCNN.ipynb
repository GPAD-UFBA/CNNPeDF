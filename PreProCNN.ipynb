{
 "cells": [
  {
   "cell_type": "code",
   "execution_count": 1,
   "metadata": {},
   "outputs": [],
   "source": [
    "from data_loader import *\n",
    "import numpy as np\n",
    "import pandas as pd\n",
    "import h5py\n",
    "from sklearn.preprocessing import OneHotEncoder\n",
    "import matplotlib.pyplot as plt\n",
    "import matplotlib.image as mpimg\n",
    "from matplotlib import pyplot"
   ]
  },
  {
   "cell_type": "code",
   "execution_count": 2,
   "metadata": {},
   "outputs": [
    {
     "name": "stdout",
     "output_type": "stream",
     "text": [
      "O dataset ACM_MIRUM tem 1410 exemplos de treinamento\n",
      "O dataset HAINSWORTH tem 221 exemplos de treinamento\n",
      "O dataset SMC_MIRUM tem 217 exemplos de treinamento\n",
      "O dataset GTZAN_GENRES tem 999 exemplos de treinamento\n",
      "O dataset EBALL tem 3826 exemplos de treinamento\n",
      "O dataset MTG tem 1170 exemplos de treinamento\n",
      "O dataset GIANSTEPS tem 661 exemplos de treinamento\n",
      "O dataset LMD tem 3605 exemplos de treinamento\n",
      "O dataset EXTENDED_BALLROOM tem 4180 exemplos de treinamento\n"
     ]
    }
   ],
   "source": [
    "id_and_bpm1 = np.array(pd.read_csv(\"bpms_database\\ACM_MIRUM.csv\"))\n",
    "id_and_bpm2 = np.array(pd.read_csv(\"bpms_database\\HAINSWORTH.csv\"))\n",
    "id_and_bpm3 = np.array(pd.read_csv(\"bpms_database\\SMC_MIRUM.csv\"))\n",
    "id_and_bpm4 = np.array(pd.read_csv(\"bpms_database\\GTZAN_GENRES.csv\"))\n",
    "id_and_bpm5 = np.array(pd.read_csv(\"bpms_database\\EBALL.csv\"))\n",
    "id_and_bpm6 = np.array(pd.read_csv(\"bpms_database\\MTG.csv\"))\n",
    "id_and_bpm7 = np.array(pd.read_csv(\"bpms_database\\GIANTSTEPS.csv\"))\n",
    "id_and_bpm8 = np.array(pd.read_csv(\"bpms_database\\LMD.csv\"))\n",
    "\n",
    "\n",
    "\n",
    "print(\"O dataset ACM_MIRUM tem\", id_and_bpm1.shape[0],\"exemplos de treinamento\")\n",
    "print(\"O dataset HAINSWORTH tem\",id_and_bpm2.shape[0],\"exemplos de treinamento\")\n",
    "print(\"O dataset SMC_MIRUM tem\",id_and_bpm3.shape[0],\"exemplos de treinamento\")\n",
    "print(\"O dataset GTZAN_GENRES tem\",id_and_bpm4.shape[0],\"exemplos de treinamento\")\n",
    "print(\"O dataset EBALL tem\",id_and_bpm5.shape[0],\"exemplos de treinamento\")\n",
    "print(\"O dataset MTG tem\",1170,\"exemplos de treinamento\")\n",
    "print(\"O dataset GIANSTEPS tem\",id_and_bpm7.shape[0],\"exemplos de treinamento\")\n",
    "print(\"O dataset LMD tem\",id_and_bpm8.shape[0]-1,\"exemplos de treinamento\")\n",
    "print(\"O dataset EXTENDED_BALLROOM tem\",4180,\"exemplos de treinamento\")\n"
   ]
  },
  {
   "cell_type": "code",
   "execution_count": 3,
   "metadata": {},
   "outputs": [
    {
     "name": "stdout",
     "output_type": "stream",
     "text": [
      "ESCOLHER DATABASE PARA PRÉ-PROCESSAMENTO\n",
      "Opções de escolha:\n",
      "1 = ACM_MIRUM\n",
      "2 = HAINSWORTH\n",
      "3 = SMC_MIRUM\n",
      "4 = GTZAN_GENRES\n",
      "5 = EBALL\n",
      "6 = MTG\n",
      "7 = GIANTSTEPS\n",
      "8 = LMD\n",
      "9 = EXTENDEND_BALLROOM\n"
     ]
    },
    {
     "name": "stdin",
     "output_type": "stream",
     "text": [
      "Qual Dataset será usado? 9\n"
     ]
    },
    {
     "name": "stdout",
     "output_type": "stream",
     "text": [
      "Você escolheu o Database= extended_ballroom\n"
     ]
    }
   ],
   "source": [
    "print(\"ESCOLHER DATABASE PARA PRÉ-PROCESSAMENTO\")\n",
    "print(\"Opções de escolha:\")\n",
    "print(\"1 = ACM_MIRUM\")\n",
    "print(\"2 = HAINSWORTH\")\n",
    "print(\"3 = SMC_MIRUM\")\n",
    "print(\"4 = GTZAN_GENRES\")\n",
    "print(\"5 = EBALL\")\n",
    "print(\"6 = MTG\")\n",
    "print(\"7 = GIANTSTEPS\")\n",
    "print(\"8 = LMD\")\n",
    "print(\"9 = EXTENDEND_BALLROOM\")\n",
    "\n",
    "\n",
    "database=int(input('Qual Dataset será usado?'))\n",
    "if database==1:\n",
    "    filename = 'acm_mirum'\n",
    "    nb_files = id_and_bpm1.shape[0] \n",
    "elif database==2:\n",
    "    filename = 'hainsworth'\n",
    "    nb_files = id_and_bpm2.shape[0]\n",
    "elif database==3:\n",
    "    filename = 'smc_mirum'\n",
    "    nb_files = id_and_bpm3.shape[0]\n",
    "elif database==4:\n",
    "    filename = 'gtzan'\n",
    "    nb_files = id_and_bpm4.shape[0]\n",
    "elif database==5:\n",
    "    filename= 'eball'\n",
    "    nb_files = id_and_bpm5.shape[0]\n",
    "elif database==6:\n",
    "    filename= 'mtg'\n",
    "    nb_files = 1170 #não foram todos importados \n",
    "elif database==7:\n",
    "    filename= 'giantsteps'\n",
    "    nb_files = id_and_bpm7.shape[0]\n",
    "elif database==8:\n",
    "    filename= 'lmd'\n",
    "    nb_files = id_and_bpm8.shape[0] - 1 \n",
    "elif database==9:\n",
    "    filename= 'extended_ballroom'\n",
    "    nb_files = 4180\n",
    "\n",
    "print(\"Você escolheu o Database=\", filename)"
   ]
  },
  {
   "cell_type": "code",
   "execution_count": 4,
   "metadata": {},
   "outputs": [
    {
     "name": "stdout",
     "output_type": "stream",
     "text": [
      "We've already made 0 importation.\n",
      "We've already made 100 importation.\n",
      "We've already made 200 importation.\n",
      "We've already made 300 importation.\n",
      "We've already made 400 importation.\n",
      "We've already made 500 importation.\n",
      "We've already made 600 importation.\n",
      "We've already made 700 importation.\n",
      "We've already made 800 importation.\n",
      "We've already made 900 importation.\n",
      "We've already made 1000 importation.\n",
      "We've already made 1100 importation.\n",
      "We've already made 1200 importation.\n",
      "We've already made 1300 importation.\n",
      "We've already made 1400 importation.\n",
      "We've already made 1500 importation.\n",
      "We've already made 1600 importation.\n",
      "We've already made 1700 importation.\n",
      "We've already made 1800 importation.\n",
      "We've already made 1900 importation.\n",
      "We've already made 2000 importation.\n",
      "We've already made 2100 importation.\n",
      "We've already made 2200 importation.\n",
      "We've already made 2300 importation.\n",
      "We've already made 2400 importation.\n",
      "We've already made 2500 importation.\n",
      "We've already made 2600 importation.\n",
      "We've already made 2700 importation.\n",
      "We've already made 2800 importation.\n",
      "We've already made 2900 importation.\n",
      "We've already made 3000 importation.\n",
      "We've already made 3100 importation.\n",
      "We've already made 3200 importation.\n",
      "We've already made 3300 importation.\n",
      "We've already made 3400 importation.\n",
      "We've already made 3500 importation.\n",
      "We've already made 3600 importation.\n",
      "We've already made 3700 importation.\n",
      "We've already made 3800 importation.\n",
      "We've already made 3900 importation.\n",
      "We've already made 4000 importation.\n",
      "We've already made 4100 importation.\n",
      "4180\n"
     ]
    }
   ],
   "source": [
    "whole_data = []\n",
    "\n",
    "# loop from 0 to the number of .hdf5 files you want to load\n",
    "\n",
    "for i in range(0,nb_files):\n",
    "    # Selects the file\n",
    "    file_to_load = 'h5/n2data_' + str(filename) + '_' + str(i) + '.hdf5'\n",
    "    \n",
    "    # Gets data\n",
    "    data = data_loader(file_to_load)\n",
    "    whole_data.append(data)\n",
    "    if i%100 == 0:\n",
    "            print(f\"We've already made {i} importation.\")\n",
    "\n",
    "    \n",
    "print(len(whole_data))"
   ]
  },
  {
   "cell_type": "code",
   "execution_count": 5,
   "metadata": {},
   "outputs": [
    {
     "name": "stdout",
     "output_type": "stream",
     "text": [
      "<class 'numpy.ndarray'>\n",
      "O database possui 4180 exemplos de treinamento.\n",
      "O nível Wavelet A2 tem 149 amostras.\n",
      "O nível Wavelet D2 tem 149 amostras.\n",
      "O nível Wavelet D1 tem 298 amostras.\n",
      "87\n"
     ]
    }
   ],
   "source": [
    "# LIST -> Dictionary(Data) -> Features(numpy.ndarray)\n",
    "# m -> the m-th example\n",
    "# feature -> ODF_SET, PeDF_FULL_SET, PeDF_PARTIAL_SET, coeffs\n",
    "# wavelet_level -> wavelet level\n",
    "# whole_data[m][feature][wavelet_level]\n",
    "\n",
    "print(type(whole_data[0]['ODF_SET'][0]))\n",
    "\n",
    "print(f\"O database possui {len(whole_data)} exemplos de treinamento.\")\n",
    "print(f\"O nível Wavelet A2 tem {len(whole_data[0]['PeDF_PARTIAL_SET'][0])} amostras.\")\n",
    "print(f\"O nível Wavelet D2 tem {len(whole_data[0]['PeDF_PARTIAL_SET'][1])} amostras.\")\n",
    "print(f\"O nível Wavelet D1 tem {len(whole_data[0]['PeDF_PARTIAL_SET'][2])} amostras.\")\n",
    "\n",
    "\n",
    "print(whole_data[0]['bpm'])"
   ]
  },
  {
   "cell_type": "code",
   "execution_count": 6,
   "metadata": {},
   "outputs": [
    {
     "name": "stdout",
     "output_type": "stream",
     "text": [
      "<class 'numpy.ndarray'>\n",
      "O valor máximo de andamento é 216.0.\n",
      "O valor mínimo de andamento é 65.0.\n",
      "[[87.]\n",
      " [87.]\n",
      " [87.]\n",
      " [87.]\n",
      " [84.]\n",
      " [90.]\n",
      " [84.]\n",
      " [87.]\n",
      " [87.]\n",
      " [90.]]\n"
     ]
    }
   ],
   "source": [
    "# CRIANDO VETOR PRÓPRIO Y\n",
    "y = []\n",
    "yy = []\n",
    "for j in range(0,len(whole_data)): \n",
    "    yy.append(whole_data[j]['bpm'])\n",
    "\n",
    "    \n",
    "yy = np.array(yy, dtype=np.float).reshape(len(whole_data),1)\n",
    "print(type(yy))\n",
    "for j in range(0,len(whole_data)): \n",
    "    y.append(round(yy[j][0]))\n",
    "    \n",
    "y = np.array(y, dtype=np.float).reshape(len(whole_data),1)\n",
    "print(f\"O valor máximo de andamento é {np.max(y)}.\")\n",
    "print(f\"O valor mínimo de andamento é {np.min(y)}.\")\n",
    "\n",
    "print(y[0:10])"
   ]
  },
  {
   "cell_type": "code",
   "execution_count": 7,
   "metadata": {},
   "outputs": [
    {
     "data": {
      "image/png": "[encoded data removed]",
      "text/plain": [
       "<Figure size 432x288 with 1 Axes>"
      ]
     },
     "metadata": {
      "needs_background": "light"
     },
     "output_type": "display_data"
    }
   ],
   "source": [
    "plt.hist(y,bins=250)\n",
    "plt.title(\"Dataset Histogram\")\n",
    "plt.xlabel(\"BPM\")\n",
    "plt.ylabel(\"Recorrência\")\n",
    "plt.show()"
   ]
  },
  {
   "cell_type": "code",
   "execution_count": 8,
   "metadata": {},
   "outputs": [
    {
     "name": "stdout",
     "output_type": "stream",
     "text": [
      "-\n",
      "[[65.0], [66.0], [68.0], [72.0], [74.0], [76.0], [78.0], [80.0], [81.0], [82.0], [83.0], [84.0], [85.0], [86.0], [87.0], [88.0], [90.0], [92.0], [93.0], [94.0], [95.0], [96.0], [98.0], [100.0], [102.0], [104.0], [106.0], [107.0], [108.0], [110.0], [111.0], [112.0], [113.0], [114.0], [115.0], [116.0], [117.0], [118.0], [119.0], [120.0], [122.0], [123.0], [124.0], [125.0], [127.0], [128.0], [129.0], [130.0], [131.0], [132.0], [133.0], [134.0], [135.0], [136.0], [138.0], [140.0], [142.0], [144.0], [148.0], [151.0], [152.0], [153.0], [156.0], [157.0], [160.0], [164.0], [168.0], [171.0], [172.0], [174.0], [175.0], [176.0], [177.0], [180.0], [184.0], [186.0], [188.0], [192.0], [196.0], [200.0], [202.0], [204.0], [208.0], [212.0], [216.0]]\n",
      "-\n",
      "[1, 2, 3, 5, 6, 8, 16, 17, 29, 31, 33, 35, 240, 245, 246, 631, 660, 669, 734, 735, 737, 738, 858, 876, 1349, 1518, 1565, 1567, 1568, 1586, 1587, 1590, 1741, 1742, 1746, 1748, 2119, 2123, 2151, 2153, 2240, 2243, 2244, 2696, 2700, 2703, 3024, 3027, 3030, 3031, 3048, 3050, 3052, 3053, 3062, 3063, 3067, 3070, 3077, 3081, 3082, 3092, 3093, 3097, 3098, 3112, 3126, 3181, 3192, 3389, 3470, 3482, 3495, 3627, 3666, 3670, 3671, 3674, 3681, 3696, 4057, 4058, 4160, 4179, 4180]\n",
      "-\n",
      "[1, 5, 6, 33, 130, 140, 164, 227, 330, 337, 530, 537, 548, 562, 596, 620, 805, 844, 847, 848, 851, 852, 853, 858, 860, 862, 864, 873, 874, 881, 916, 917, 918, 919, 920, 921, 923, 924, 928, 932, 933, 940, 994, 995, 996, 1049, 1056, 1070, 1099, 1312, 1507, 1607, 1742, 1753, 1756, 1757, 1804, 1818, 1842, 2147, 2294, 2500, 2717, 2742, 2761, 2829, 2847, 2916, 2944, 3250, 3392, 3558, 3643, 3697, 3715, 3718, 3753, 3759, 3772, 3816, 3860, 4051, 4053, 4056, 4057]\n",
      "-\n",
      "[1, 1, 2, 1, 2, 8, 1, 12, 2, 2, 2, 205, 5, 1, 385, 29, 9, 65, 1, 2, 1, 120, 18, 473, 169, 47, 2, 1, 18, 1, 3, 151, 1, 4, 2, 371, 4, 28, 2, 87, 3, 1, 452, 4, 3, 321, 3, 3, 1, 17, 2, 2, 1, 9, 1, 4, 3, 7, 4, 1, 10, 1, 4, 1, 14, 14, 55, 11, 197, 81, 12, 13, 132, 39, 4, 1, 3, 7, 15, 361, 1, 102, 19, 1, 1]\n",
      "4180\n"
     ]
    }
   ],
   "source": [
    "aux2 = y.tolist()\n",
    "print(\"-\")\n",
    "def remove_repetidos(lista):\n",
    "    l = []\n",
    "    laux = []\n",
    "    a=0\n",
    "    for i in lista:\n",
    "        a=a+1\n",
    "        if i not in l:\n",
    "            l.append(i)\n",
    "            laux.append(a)\n",
    "    l.sort()\n",
    "    return l, laux\n",
    "\n",
    "classes_sort, posicao = remove_repetidos(aux2)\n",
    "\n",
    "print(classes_sort)\n",
    "aux2=sorted(aux2)\n",
    "print(\"-\")\n",
    "rcr = []\n",
    "recorrencia = []\n",
    "laux = []\n",
    "l = []\n",
    "a=0\n",
    "for i in aux2:\n",
    "    rcr.append(aux2.count(i))\n",
    "    a=a+1\n",
    "    if i not in l:\n",
    "        l.append(i)\n",
    "        laux.append(a)\n",
    "\n",
    "for i in laux:\n",
    "    recorrencia.append(rcr[i-1])\n",
    "\n",
    "print(laux)\n",
    "print(\"-\")\n",
    "print(posicao)\n",
    "\n",
    "print(\"-\")\n",
    "print(recorrencia)\n",
    "print(sum(recorrencia))\n"
   ]
  },
  {
   "cell_type": "code",
   "execution_count": 9,
   "metadata": {},
   "outputs": [
    {
     "name": "stdout",
     "output_type": "stream",
     "text": [
      "(4180, 250)\n",
      "[[0 0 0 ... 0 0 0]\n",
      " [0 0 0 ... 0 0 0]\n",
      " [0 0 0 ... 0 0 0]\n",
      " ...\n",
      " [0 0 0 ... 0 0 0]\n",
      " [0 0 0 ... 0 0 0]\n",
      " [0 0 0 ... 0 0 0]]\n"
     ]
    }
   ],
   "source": [
    "list=[] #Classes de 20 até 269\n",
    "list2=[] #OneHOT enconder\n",
    "list3=[] #lista para Y\n",
    "for i in range(0,250): list.append(i+20),list2.append(0)\n",
    "for j in range(0,nb_files):\n",
    "    for i in range(0,250):\n",
    "        if y[j]==list[i]:\n",
    "            list2[i]=1\n",
    "    list3.append(list2)\n",
    "    list2=[]\n",
    "    for i in range(0,250): list2.append(0)\n",
    "\n",
    "        \n",
    "\n",
    "Y=np.array(list3).reshape(nb_files,250)\n",
    "print(Y.shape)\n",
    "print(Y[0:10])"
   ]
  },
  {
   "cell_type": "code",
   "execution_count": 10,
   "metadata": {},
   "outputs": [
    {
     "name": "stdout",
     "output_type": "stream",
     "text": [
      "1.0\n",
      "(17, 18, 3)\n"
     ]
    },
    {
     "data": {
      "image/png": "[encoded data removed]",
      "text/plain": [
       "<Figure size 432x288 with 1 Axes>"
      ]
     },
     "metadata": {
      "needs_background": "light"
     },
     "output_type": "display_data"
    }
   ],
   "source": [
    "print(whole_data[0]['PeDF_PARTIAL_SET'][2][0])\n",
    "lista = []\n",
    "\n",
    "for j in range(0,len(whole_data)):  #varrer m-exemplos\n",
    "\n",
    "    listaux0 = []    #D1\n",
    "    listaux1 = []    #D2\n",
    "    listaux2 = []    #A2\n",
    "    listaux0.append(1)\n",
    "    listaux1.append(1)    \n",
    "    listaux2.append(1)  \n",
    "    for i in range(1,len(whole_data[0]['PeDF_PARTIAL_SET'][2])):\n",
    "        if (i<len(whole_data[j]['PeDF_PARTIAL_SET'][2])-1):\n",
    "            if (whole_data[j]['PeDF_PARTIAL_SET'][2][i]>whole_data[j]['PeDF_PARTIAL_SET'][2][i-1] and whole_data[j]['PeDF_PARTIAL_SET'][2][i]>whole_data[j]['PeDF_PARTIAL_SET'][2][i+1]):\n",
    "                listaux0.append(whole_data[j]['PeDF_PARTIAL_SET'][2][i])\n",
    "            else:\n",
    "                listaux0.append(0)\n",
    "        else: \n",
    "            listaux0.append(0)\n",
    "\n",
    "    for i in range(1,len(whole_data[0]['PeDF_PARTIAL_SET'][1])):\n",
    "        if (i<len(whole_data[0]['PeDF_PARTIAL_SET'][1])-1):\n",
    "            if (whole_data[j]['PeDF_PARTIAL_SET'][1][i]>whole_data[j]['PeDF_PARTIAL_SET'][1][i-1] and whole_data[j]['PeDF_PARTIAL_SET'][1][i]>whole_data[j]['PeDF_PARTIAL_SET'][1][i+1]):\n",
    "                listaux1.append(whole_data[j]['PeDF_PARTIAL_SET'][1][i])\n",
    "            else:\n",
    "                listaux1.append(0)\n",
    "        else: \n",
    "            listaux1.append(0)\n",
    "        if (i<len(whole_data[0]['PeDF_PARTIAL_SET'][0])-1):\n",
    "            if (whole_data[j]['PeDF_PARTIAL_SET'][0][i]>whole_data[j]['PeDF_PARTIAL_SET'][0][i-1] and whole_data[j]['PeDF_PARTIAL_SET'][0][i]>whole_data[j]['PeDF_PARTIAL_SET'][0][i+1]):\n",
    "                listaux2.append(whole_data[j]['PeDF_PARTIAL_SET'][2][i])\n",
    "            else:\n",
    "                listaux2.append(0)\n",
    "        else: \n",
    "            listaux2.append(0)\n",
    "    #print(j)\n",
    "            \n",
    "#Setar shape 298, 149, 149 17x18 = 306 \n",
    "    for i in range(0,8):\n",
    "        listaux0.append(0)\n",
    "    for i in range(0,8+149):\n",
    "        listaux1.append(0)\n",
    "        listaux2.append(0)\n",
    "\n",
    "#\n",
    "    lista.append([listaux0, listaux1, listaux2]) #len = 3*306*4180 - 3837240 dados\n",
    "#print(lista[2])\n",
    "#lista = np.array(lista).reshape(len(whole_data),3,17,18) #(4180,3,17,18)\n",
    "lista = np.array(lista).reshape(len(whole_data),17,18,3) #(4180,17,18,3)\n",
    "\n",
    "\n",
    "# exemplos --> nível wavelet --> imagem (17x18)\n",
    "listaux0 = np.array(listaux0).reshape(17,18)\n",
    "listaux1 = np.array(listaux1).reshape(17,18)\n",
    "listaux2 = np.array(listaux2).reshape(17,18)\n",
    "\n",
    "print(lista[1].shape)\n",
    "#imagem\n",
    "\n",
    "imgplot = plt.imshow(lista[2])"
   ]
  },
  {
   "cell_type": "code",
   "execution_count": 11,
   "metadata": {},
   "outputs": [
    {
     "data": {
      "text/plain": [
       "Text(0.5, 1.0, 'Image PeDF 3')"
      ]
     },
     "execution_count": 11,
     "metadata": {},
     "output_type": "execute_result"
    },
    {
     "data": {
      "image/png": "[encoded data removed]",
      "text/plain": [
       "<Figure size 432x288 with 1 Axes>"
      ]
     },
     "metadata": {
      "needs_background": "light"
     },
     "output_type": "display_data"
    },
    {
     "data": {
      "image/png": "[encoded data removed]",
      "text/plain": [
       "<Figure size 432x288 with 1 Axes>"
      ]
     },
     "metadata": {
      "needs_background": "light"
     },
     "output_type": "display_data"
    },
    {
     "data": {
      "image/png": "[encoded data removed]",
      "text/plain": [
       "<Figure size 432x288 with 1 Axes>"
      ]
     },
     "metadata": {
      "needs_background": "light"
     },
     "output_type": "display_data"
    }
   ],
   "source": [
    "fig = plt.figure()\n",
    "a = fig.add_subplot(2, 2, 1)\n",
    "imgplot = plt.imshow(lista[0])\n",
    "a.set_title('Image PeDF 1')\n",
    "fig = plt.figure()\n",
    "a = fig.add_subplot(2, 2, 2)\n",
    "imgplot = plt.imshow(lista[2])\n",
    "a.set_title('Image PeDF 2')\n",
    "fig = plt.figure()\n",
    "a = fig.add_subplot(2, 2, 3)\n",
    "imgplot = plt.imshow(lista[3])\n",
    "a.set_title('Image PeDF 3')"
   ]
  },
  {
   "cell_type": "code",
   "execution_count": 12,
   "metadata": {},
   "outputs": [
    {
     "name": "stdout",
     "output_type": "stream",
     "text": [
      "Lista Size (4180, 17, 18, 3)\n",
      "Y Size (4180, 250)\n",
      "X_train Size (3762, 17, 18, 3)\n",
      "Y_train Size (3762, 250)\n",
      "X_val Size (418, 17, 18, 3)\n",
      "Y_val Size (418, 250)\n"
     ]
    }
   ],
   "source": [
    "if filename=='mtg' or filename=='eball' or filename=='extended_ballroom' or filename=='lmd':\n",
    "    np.random.seed(0)\n",
    "    np.random.shuffle(lista)\n",
    "    np.random.seed(0)\n",
    "    np.random.shuffle(Y)\n",
    "\n",
    "    total_size = lista.shape[0]\n",
    "    train_size = int((total_size)*0.90)\n",
    "    val_size = (train_size)\n",
    "    X_train = lista[0:train_size,:,:,:]\n",
    "    Y_train = Y[0:train_size,:]\n",
    "    X_val = lista[val_size:total_size,:,:,:]\n",
    "    Y_val = Y[val_size:total_size,:]\n",
    "\n",
    "    print('Lista Size',lista.shape)\n",
    "    print('Y Size', Y.shape)\n",
    "    print('X_train Size',X_train.shape)\n",
    "    print('Y_train Size',Y_train.shape)\n",
    "    print('X_val Size',X_val.shape)\n",
    "    print('Y_val Size',Y_val.shape)\n",
    "else:\n",
    "    X_test = lista\n",
    "    Y_test = Y\n",
    "    print('X_test Size',X_test.shape)\n",
    "    print('Y_test Size',Y_test.shape)"
   ]
  },
  {
   "cell_type": "code",
   "execution_count": 13,
   "metadata": {},
   "outputs": [
    {
     "data": {
      "image/png": "[encoded data removed]",
      "text/plain": [
       "<Figure size 432x288 with 1 Axes>"
      ]
     },
     "metadata": {
      "needs_background": "light"
     },
     "output_type": "display_data"
    }
   ],
   "source": [
    "bins=Y.shape[1]\n",
    "limclass=np.array(classes_sort).T.shape[1]\n",
    "#===ONE HOT TO LIN===#\n",
    "if filename=='mtg' or filename=='eball' or filename=='extended_ballroom' or filename=='lmd':\n",
    "    #===TRAIN===#\n",
    "    Y_train_ = []\n",
    "    Y_train_lin = []\n",
    "\n",
    "    for cont in range(0,Y_train.shape[0]):\n",
    "        a = 0\n",
    "        i = 0\n",
    "        for a in range(0,Y_train.shape[1]):\n",
    "            i = Y_train[cont][a]\n",
    "            if (i==1):\n",
    "                Y_train_.append(a)\n",
    "            a += 1\n",
    "    for i in range(0,Y_train.shape[0]):\n",
    "        for j in range(0,limclass):\n",
    "            if Y_train_[i]+20==classes_sort[j][0]:\n",
    "                Y_train_lin.append(classes_sort[j][0])\n",
    "    #print(np.array(Y_train_lin))\n",
    "\n",
    "\n",
    "    #===VAL===#\n",
    "    Y_val_ = []\n",
    "    Y_val_lin = []\n",
    "\n",
    "    for cont in range(0,Y_val.shape[0]):\n",
    "        a = 0\n",
    "        i = 0\n",
    "        for a in range(0,Y_val.shape[1]):\n",
    "            i = Y_val[cont][a]\n",
    "            if (i==1):\n",
    "                Y_val_.append(a)\n",
    "            a += 1\n",
    "    for i in range(0,Y_val.shape[0]):\n",
    "        for j in range(0,limclass):\n",
    "            if Y_val_[i]+20==classes_sort[j][0]:\n",
    "                Y_val_lin.append(classes_sort[j][0])\n",
    "    #print(np.array(Y_val_lin))\n",
    "    \n",
    "    pyplot.hist(Y_train_lin, bins, alpha=0.5, label='Y_train_lin')\n",
    "    pyplot.hist(Y_val_lin, bins, alpha=0.5, label='Y_val_lin')\n",
    "    pyplot.title(\"Train|Val| Histogram\")\n",
    "    pyplot.legend(loc='upper right')\n",
    "    pyplot.xlabel(\"BPM\")\n",
    "    pyplot.ylabel(\"Recorrência\")\n",
    "    pyplot.show()\n",
    "\n",
    "\n",
    "else:\n",
    "    #===TEST===#\n",
    "    Y_test_ = []\n",
    "    Y_test_lin = []\n",
    "\n",
    "    for cont in range(0,Y_test.shape[0]):\n",
    "        a = 0\n",
    "        i = 0\n",
    "        for a in range(0,Y_test.shape[1]):\n",
    "            i = Y_test[cont][a]\n",
    "            if (i==1):\n",
    "                Y_test_.append(a)\n",
    "            a += 1\n",
    "    for i in range(0,Y_test.shape[0]):\n",
    "        for j in range(0,limclass):\n",
    "            if Y_test_[i]+20==classes_sort[j][0]:\n",
    "                Y_test_lin.append(classes_sort[j][0])\n",
    "    #print(np.array(Y_test_lin))\n",
    "    pyplot.hist(Y_test_lin, bins, alpha=0.5, label='Y_test_lin')\n",
    "    pyplot.title(\"Test Histogram\")\n",
    "    pyplot.legend(loc='upper right')\n",
    "    pyplot.xlabel(\"BPM\")\n",
    "    pyplot.ylabel(\"Recorrência\")\n",
    "    pyplot.show()\n",
    "\n",
    "\n"
   ]
  },
  {
   "cell_type": "code",
   "execution_count": 14,
   "metadata": {},
   "outputs": [
    {
     "data": {
      "image/png": "[encoded data removed]",
      "text/plain": [
       "<Figure size 432x288 with 1 Axes>"
      ]
     },
     "metadata": {
      "needs_background": "light"
     },
     "output_type": "display_data"
    }
   ],
   "source": [
    "if filename=='mtg' or filename=='eball' or filename=='extended_ballroom' or filename=='lmd':\n",
    "    plt.hist(Y_train_lin,bins)\n",
    "    plt.title(\"Train Histogram\")\n",
    "    plt.xlabel(\"BPM\")\n",
    "    plt.ylabel(\"Recorrência\")\n",
    "    plt.show()"
   ]
  },
  {
   "cell_type": "code",
   "execution_count": 15,
   "metadata": {},
   "outputs": [
    {
     "data": {
      "image/png": "[encoded data removed]",
      "text/plain": [
       "<Figure size 432x288 with 1 Axes>"
      ]
     },
     "metadata": {
      "needs_background": "light"
     },
     "output_type": "display_data"
    }
   ],
   "source": [
    "if filename=='mtg' or filename=='eball' or filename=='extended_ballroom' or filename=='lmd':\n",
    "    plt.hist(Y_val_lin,bins)\n",
    "    plt.title(\"Validation Histogram\")\n",
    "    plt.xlabel(\"BPM\")\n",
    "    plt.ylabel(\"Recorrência\")\n",
    "    plt.show()\n",
    "else:\n",
    "    plt.hist(Y_test_lin,bins)\n",
    "    plt.title(\"Test Histogram\")\n",
    "    plt.xlabel(\"BPM\")\n",
    "    plt.ylabel(\"Recorrência\")\n",
    "    plt.show()"
   ]
  },
  {
   "cell_type": "code",
   "execution_count": 16,
   "metadata": {},
   "outputs": [],
   "source": [
    "hf = h5py.File('h5/Data_' + str(filename) + '.hdf5','a')\n",
    "\n",
    "if filename=='mtg' or filename=='eball' or filename=='extended_ballroom' or filename=='lmd':\n",
    "    Xtrain = hf.create_group('Xtrain')\n",
    "    Ytrain = hf.create_group('Ytrain')\n",
    "    Xval = hf.create_group('Xval')\n",
    "    Yval = hf.create_group('Yval')\n",
    "    Classessort = hf.create_group('Classessort')\n",
    "    Rcr = hf.create_group('Rcr')\n",
    "else:\n",
    "    Xtest = hf.create_group('Xtest')\n",
    "    Ytest = hf.create_group('Ytest')\n",
    "    Classessort = hf.create_group('Classessort')\n",
    "    Rcr = hf.create_group('Rcr')\n",
    "\n",
    "if filename=='mtg' or filename=='eball' or filename=='extended_ballroom' or filename=='lmd':\n",
    "    Xtrain.create_dataset(\"Xtrain\", data=X_train)\n",
    "    Ytrain.create_dataset(\"Ytrain\", data=Y_train)\n",
    "    Xval.create_dataset(\"Xval\", data=X_val)\n",
    "    Yval.create_dataset(\"Yval\", data=Y_val)\n",
    "    Classessort.create_dataset(\"Classessort\", data=classes_sort)\n",
    "    Rcr.create_dataset(\"Rcr\", data=recorrencia)\n",
    "else:\n",
    "    Xtest.create_dataset(\"Xtest\", data=X_test)\n",
    "    Ytest.create_dataset(\"Ytest\", data=Y_test)\n",
    "    Classessort.create_dataset(\"Classessort\", data=classes_sort)\n",
    "    Rcr.create_dataset(\"Rcr\", data=recorrencia)\n",
    "\n",
    "hf.close()\n"
   ]
  },
  {
   "cell_type": "code",
   "execution_count": null,
   "metadata": {},
   "outputs": [],
   "source": []
  },
  {
   "cell_type": "code",
   "execution_count": null,
   "metadata": {},
   "outputs": [],
   "source": []
  },
  {
   "cell_type": "code",
   "execution_count": null,
   "metadata": {},
   "outputs": [],
   "source": []
  }
 ],
 "metadata": {
  "kernelspec": {
   "display_name": "Python 3",
   "language": "python",
   "name": "python3"
  },
  "language_info": {
   "codemirror_mode": {
    "name": "ipython",
    "version": 3
   },
   "file_extension": ".py",
   "mimetype": "text/x-python",
   "name": "python",
   "nbconvert_exporter": "python",
   "pygments_lexer": "ipython3",
   "version": "3.7.0"
  }
 },
 "nbformat": 4,
 "nbformat_minor": 2
}
