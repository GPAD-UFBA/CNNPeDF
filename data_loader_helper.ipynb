{
 "cells": [
  {
   "cell_type": "code",
   "execution_count": 2,
   "metadata": {},
   "outputs": [],
   "source": [
    "from data_loader import *"
   ]
  },
  {
   "cell_type": "code",
   "execution_count": 16,
   "metadata": {},
   "outputs": [
    {
     "name": "stdout",
     "output_type": "stream",
     "text": [
      "We've already made 0 importation.\n",
      "We've already made 100 importation.\n",
      "We've already made 200 importation.\n",
      "We've already made 300 importation.\n",
      "We've already made 400 importation.\n",
      "We've already made 500 importation.\n",
      "We've already made 600 importation.\n",
      "We've already made 700 importation.\n",
      "We've already made 800 importation.\n",
      "We've already made 900 importation.\n",
      "We've already made 1000 importation.\n",
      "We've already made 1100 importation.\n",
      "We've already made 1200 importation.\n",
      "We've already made 1300 importation.\n",
      "We've already made 1400 importation.\n",
      "We've already made 1500 importation.\n",
      "We've already made 1600 importation.\n",
      "We've already made 1700 importation.\n",
      "We've already made 1800 importation.\n",
      "We've already made 1900 importation.\n",
      "We've already made 2000 importation.\n",
      "We've already made 2100 importation.\n",
      "We've already made 2200 importation.\n",
      "We've already made 2300 importation.\n",
      "We've already made 2400 importation.\n",
      "We've already made 2500 importation.\n",
      "We've already made 2600 importation.\n",
      "We've already made 2700 importation.\n",
      "We've already made 2800 importation.\n",
      "We've already made 2900 importation.\n",
      "We've already made 3000 importation.\n",
      "We've already made 3100 importation.\n",
      "We've already made 3200 importation.\n",
      "We've already made 3300 importation.\n",
      "We've already made 3400 importation.\n",
      "We've already made 3500 importation.\n",
      "We've already made 3600 importation.\n",
      "We've already made 3700 importation.\n",
      "We've already made 3800 importation.\n",
      "We've already made 3900 importation.\n",
      "We've already made 4000 importation.\n",
      "We've already made 4100 importation.\n",
      "4180\n"
     ]
    }
   ],
   "source": [
    "whole_data = []\n",
    "\n",
    "# loop from 0 to the number of .hdf5 files you want to load\n",
    "nb_files = 3000\n",
    "\n",
    "for i in range(0,nb_files):\n",
    "    # Selects the file\n",
    "    file_to_load = 'h5/data_extended_ballroom_' + str(i) + '.hdf5'\n",
    "    \n",
    "    # Gets data\n",
    "    data = data_loader(file_to_load)\n",
    "    whole_data.append(data)\n",
    "    \n",
    "print(len(whole_data))"
   ]
  },
  {
   "cell_type": "code",
   "execution_count": 96,
   "metadata": {},
   "outputs": [
    {
     "name": "stdout",
     "output_type": "stream",
     "text": [
      "[0.09789759 0.12304947 0.11516481 0.11305401 0.12487235 0.11626875\n",
      " 0.08945525 0.12610267 0.09041204 0.11987322 0.11336574 0.1067775\n",
      " 0.11606789 0.13333316 0.1275429  0.12621577 0.10454718 0.12842593\n",
      " 0.10942844 0.11232192 0.12895374 0.13011736 0.11808828 0.11356681\n",
      " 0.10964493 0.10766117 0.10871278 0.12825347 0.13041647 0.14725854\n",
      " 0.1298789  0.13444349 0.12132116 0.12755384 0.11888794 0.11904074\n",
      " 0.13866775 0.11250513 0.1512447  0.127725   0.1180727  0.12588009\n",
      " 0.12287907 0.11228716 0.12272789 0.14356191 0.15375474 0.13346025\n",
      " 0.13698989 0.1166543  0.13649543 0.1283737  0.11550584 0.15188682\n",
      " 0.13661064 0.16504362 0.12989129 0.14423989 0.13916013 0.14279498\n",
      " 0.13440886 0.1379615  0.17574933 0.2313796  0.145935   0.15536408\n",
      " 0.15492739 0.15351914 0.16737175 0.13714828 0.14156912 0.1712339\n",
      " 0.20227847 0.1536525  0.13181807 0.15287966 0.14699943 0.14243509\n",
      " 0.14263253 0.15740837 0.17014845 0.2800036  0.15669404 0.16137402\n",
      " 0.1522669  0.15956281 0.14118572 0.15552959 0.17935315 0.18983546\n",
      " 0.1617694  0.16506661 0.15256654 0.15762731 0.16126466 0.15984014\n",
      " 0.19551606 0.33070144 0.21077316 0.1785043  0.1736488  0.16496813\n",
      " 0.16990079 0.16947673 0.17212513 0.17342955 0.187455   0.18927802\n",
      " 0.17512292 0.17393667 0.1844163  0.17700419 0.18412195 0.18840992\n",
      " 0.33176002 0.28407452 0.21516095 0.18477532 0.1855903  0.1820162\n",
      " 0.21095994 0.19546904 0.20339686 0.3503542  0.1997203  0.18724665\n",
      " 0.18438374 0.18967763 0.18600155 0.18777083 0.19144727 0.22946425\n",
      " 0.2624082  0.23143378 0.2171216  0.19239153 0.20350148 0.18936533\n",
      " 0.21013269 0.20327576 0.23721258 0.20915335 0.21852894 0.20403147\n",
      " 0.20267318 0.21730323 0.20806278 0.2248811  0.2569025  1.\n",
      " 0.2569025  0.2248811  0.20806278 0.21730323 0.20267318 0.20403147\n",
      " 0.21852894 0.20915335 0.23721258 0.20327576 0.21013269 0.18936533\n",
      " 0.20350148 0.19239153 0.2171216  0.23143378 0.2624082  0.22946425\n",
      " 0.19144727 0.18777083 0.18600155 0.18967763 0.18438374 0.18724665\n",
      " 0.1997203  0.3503542  0.20339686 0.19546904 0.21095994 0.1820162\n",
      " 0.1855903  0.18477532 0.21516095 0.28407452 0.33176002 0.18840992\n",
      " 0.18412195 0.17700419 0.1844163  0.17393667 0.17512292 0.18927802\n",
      " 0.187455   0.17342955 0.17212513 0.16947673 0.16990079 0.16496813\n",
      " 0.1736488  0.1785043  0.21077316 0.33070144 0.19551606 0.15984014\n",
      " 0.16126466 0.15762731 0.15256654 0.16506661 0.1617694  0.18983546\n",
      " 0.17935315 0.15552959 0.14118572 0.15956281 0.1522669  0.16137402\n",
      " 0.15669404 0.2800036  0.17014845 0.15740837 0.14263253 0.14243509\n",
      " 0.14699943 0.15287966 0.13181807 0.1536525  0.20227847 0.1712339\n",
      " 0.14156912 0.13714828 0.16737175 0.15351914 0.15492739 0.15536408\n",
      " 0.145935   0.2313796  0.17574933 0.1379615  0.13440886 0.14279498\n",
      " 0.13916013 0.14423989 0.12989129 0.16504362 0.13661064 0.15188682\n",
      " 0.11550584 0.1283737  0.13649543 0.1166543  0.13698989 0.13346025\n",
      " 0.15375474 0.14356191 0.12272789 0.11228716 0.12287907 0.12588009\n",
      " 0.1180727  0.127725   0.1512447  0.11250513 0.13866775 0.11904074\n",
      " 0.11888794 0.12755384 0.12132116 0.13444349 0.1298789  0.14725854\n",
      " 0.13041647 0.12825347 0.10871278 0.10766117 0.10964493 0.11356681\n",
      " 0.11808828 0.13011736 0.12895374 0.11232192 0.10942844 0.12842593\n",
      " 0.10454718 0.12621577 0.1275429  0.13333316 0.11606789 0.1067775\n",
      " 0.11336574 0.11987322 0.09041204 0.12610267 0.08945525 0.11626875\n",
      " 0.12487235 0.11305401 0.11516481 0.12304947]\n",
      "298\n"
     ]
    }
   ],
   "source": [
    "# LIST -> Dictionary(Data) -> Features\n",
    "# m -> the m-th example\n",
    "# feature -> ODF_SET, PeDF_FULL_SET, PeDF_PARTIAL_SET, coeffs\n",
    "# wavelet_level -> wavelet level\n",
    "# whole_data[m][feature][wavelet_level]\n",
    "\n",
    "type(whole_data[0]['ODF_SET'][0])"
   ]
  }
 ],
 "metadata": {
  "kernelspec": {
   "display_name": "Python 3",
   "language": "python",
   "name": "python3"
  },
  "language_info": {
   "codemirror_mode": {
    "name": "ipython",
    "version": 3
   },
   "file_extension": ".py",
   "mimetype": "text/x-python",
   "name": "python",
   "nbconvert_exporter": "python",
   "pygments_lexer": "ipython3",
   "version": "3.7.0"
  }
 },
 "nbformat": 4,
 "nbformat_minor": 4
}
